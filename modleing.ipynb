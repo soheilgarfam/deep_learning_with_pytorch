{
  "nbformat": 4,
  "nbformat_minor": 0,
  "metadata": {
    "colab": {
      "provenance": [],
      "authorship_tag": "ABX9TyPNjMPniSSotJC7W1/BIsmg",
      "include_colab_link": true
    },
    "kernelspec": {
      "name": "python3",
      "display_name": "Python 3"
    },
    "language_info": {
      "name": "python"
    }
  },
  "cells": [
    {
      "cell_type": "markdown",
      "metadata": {
        "id": "view-in-github",
        "colab_type": "text"
      },
      "source": [
        "<a href=\"https://colab.research.google.com/github/soheilgarfam/deep_learning_with_pytorch/blob/main/modleing.ipynb\" target=\"_parent\"><img src=\"https://colab.research.google.com/assets/colab-badge.svg\" alt=\"Open In Colab\"/></a>"
      ]
    },
    {
      "cell_type": "code",
      "execution_count": null,
      "metadata": {
        "id": "3WbG_6wW809r"
      },
      "outputs": [],
      "source": [
        " import torch\n",
        " import numpy as np\n",
        " from torch import nn\n",
        " import matplotlib.pyplot as plt\n"
      ]
    },
    {
      "cell_type": "code",
      "source": [
        "weight = 0.2\n",
        "bias = 0.3\n",
        "# create\n",
        "start = 0\n",
        "end = 1\n",
        "step = 0.02\n",
        "X = torch.arange(start , end , step).unsqueeze(dim=1)\n",
        "y = weight * X + bias"
      ],
      "metadata": {
        "id": "l8egsTom-gkg"
      },
      "execution_count": null,
      "outputs": []
    },
    {
      "cell_type": "code",
      "source": [
        "X[:10] , y[:10],len(X)"
      ],
      "metadata": {
        "colab": {
          "base_uri": "https://localhost:8080/"
        },
        "id": "vvgmpDnIFCs7",
        "outputId": "029b1071-8651-4595-8e80-b3d35b27b048"
      },
      "execution_count": null,
      "outputs": [
        {
          "output_type": "execute_result",
          "data": {
            "text/plain": [
              "(tensor([[0.0000],\n",
              "         [0.0200],\n",
              "         [0.0400],\n",
              "         [0.0600],\n",
              "         [0.0800],\n",
              "         [0.1000],\n",
              "         [0.1200],\n",
              "         [0.1400],\n",
              "         [0.1600],\n",
              "         [0.1800]]),\n",
              " tensor([[0.3000],\n",
              "         [0.3040],\n",
              "         [0.3080],\n",
              "         [0.3120],\n",
              "         [0.3160],\n",
              "         [0.3200],\n",
              "         [0.3240],\n",
              "         [0.3280],\n",
              "         [0.3320],\n",
              "         [0.3360]]),\n",
              " 50)"
            ]
          },
          "metadata": {},
          "execution_count": 127
        }
      ]
    },
    {
      "cell_type": "code",
      "source": [
        "# Create train/test split\n",
        "train_split = int(0.8 * len(X)) # 80% of data used for training set, 20% for testing\n",
        "X_train, y_train = X[:train_split], y[:train_split]\n",
        "X_test, y_test = X[train_split:], y[train_split:]\n",
        "\n",
        "len(X_train), len(y_train), len(X_test), len(y_test)"
      ],
      "metadata": {
        "colab": {
          "base_uri": "https://localhost:8080/",
          "height": 246
        },
        "id": "aWxeI_2otNPq",
        "outputId": "581cb738-4e12-4316-a4d8-5db1b142527e"
      },
      "execution_count": null,
      "outputs": [
        {
          "output_type": "error",
          "ename": "NameError",
          "evalue": "name 'X' is not defined",
          "traceback": [
            "\u001b[0;31m---------------------------------------------------------------------------\u001b[0m",
            "\u001b[0;31mNameError\u001b[0m                                 Traceback (most recent call last)",
            "\u001b[0;32m<ipython-input-19-8b3427064d81>\u001b[0m in \u001b[0;36m<cell line: 2>\u001b[0;34m()\u001b[0m\n\u001b[1;32m      1\u001b[0m \u001b[0;31m# Create train/test split\u001b[0m\u001b[0;34m\u001b[0m\u001b[0;34m\u001b[0m\u001b[0m\n\u001b[0;32m----> 2\u001b[0;31m \u001b[0mtrain_split\u001b[0m \u001b[0;34m=\u001b[0m \u001b[0mint\u001b[0m\u001b[0;34m(\u001b[0m\u001b[0;36m0.8\u001b[0m \u001b[0;34m*\u001b[0m \u001b[0mlen\u001b[0m\u001b[0;34m(\u001b[0m\u001b[0mX\u001b[0m\u001b[0;34m)\u001b[0m\u001b[0;34m)\u001b[0m \u001b[0;31m# 80% of data used for training set, 20% for testing\u001b[0m\u001b[0;34m\u001b[0m\u001b[0;34m\u001b[0m\u001b[0m\n\u001b[0m\u001b[1;32m      3\u001b[0m \u001b[0mX_train\u001b[0m\u001b[0;34m,\u001b[0m \u001b[0my_train\u001b[0m \u001b[0;34m=\u001b[0m \u001b[0mX\u001b[0m\u001b[0;34m[\u001b[0m\u001b[0;34m:\u001b[0m\u001b[0mtrain_split\u001b[0m\u001b[0;34m]\u001b[0m\u001b[0;34m,\u001b[0m \u001b[0my\u001b[0m\u001b[0;34m[\u001b[0m\u001b[0;34m:\u001b[0m\u001b[0mtrain_split\u001b[0m\u001b[0;34m]\u001b[0m\u001b[0;34m\u001b[0m\u001b[0;34m\u001b[0m\u001b[0m\n\u001b[1;32m      4\u001b[0m \u001b[0mX_test\u001b[0m\u001b[0;34m,\u001b[0m \u001b[0my_test\u001b[0m \u001b[0;34m=\u001b[0m \u001b[0mX\u001b[0m\u001b[0;34m[\u001b[0m\u001b[0mtrain_split\u001b[0m\u001b[0;34m:\u001b[0m\u001b[0;34m]\u001b[0m\u001b[0;34m,\u001b[0m \u001b[0my\u001b[0m\u001b[0;34m[\u001b[0m\u001b[0mtrain_split\u001b[0m\u001b[0;34m:\u001b[0m\u001b[0;34m]\u001b[0m\u001b[0;34m\u001b[0m\u001b[0;34m\u001b[0m\u001b[0m\n\u001b[1;32m      5\u001b[0m \u001b[0;34m\u001b[0m\u001b[0m\n",
            "\u001b[0;31mNameError\u001b[0m: name 'X' is not defined"
          ]
        }
      ]
    },
    {
      "cell_type": "code",
      "source": [
        "def plot_predictions(train_data,\n",
        "                     train_labels,\n",
        "                     test_data,\n",
        "                     test_labels,\n",
        "                     predictions=None):\n",
        "  \"\"\"\n",
        "  Plots training data, test data and compares predictions.\n",
        "  \"\"\"\n",
        "  plt.figure(figsize=(7, 5))\n",
        "\n",
        "  # Plot training data in blue\n",
        "  plt.scatter(train_data, train_labels, c=\"b\", s=4, label=\"Training data\")\n",
        "\n",
        "  # Plot test data in green\n",
        "  plt.scatter(test_data, test_labels, c=\"g\", s=4, label=\"Testing data\")\n",
        "\n",
        "  if predictions is not None:\n",
        "    # Plot the predictions in red (predictions were made on the test data)\n",
        "    plt.scatter(test_data, predictions, c=\"r\", s=4, label=\"Predictions\")\n",
        "\n",
        "  # Show the legend\n",
        "  plt.legend(prop={\"size\": 14});"
      ],
      "metadata": {
        "id": "209R11VOtIv8"
      },
      "execution_count": null,
      "outputs": []
    },
    {
      "cell_type": "code",
      "source": [
        "plot_predictions()"
      ],
      "metadata": {
        "colab": {
          "base_uri": "https://localhost:8080/",
          "height": 445
        },
        "id": "HggZNa02tcAq",
        "outputId": "99c3f22a-f347-4ae1-d07c-d4a80e938a70"
      },
      "execution_count": null,
      "outputs": [
        {
          "output_type": "display_data",
          "data": {
            "text/plain": [
              "<Figure size 700x500 with 1 Axes>"
            ],
            "image/png": "[encoded data removed]"
          },
          "metadata": {}
        }
      ]
    },
    {
      "cell_type": "markdown",
      "source": [
        "bulding the modol\n"
      ],
      "metadata": {
        "id": "5zE8urjpaBHb"
      }
    },
    {
      "cell_type": "code",
      "source": [
        "class LienearRegressionModel(nn.Module):\n",
        "  def __init__(self):\n",
        "    super().__init__()\n",
        "    self.weights = nn.Parameter(torch.randn(1 ,\n",
        "                                                requires_grad=True ,\n",
        "                                                 dtype= torch.float))\n",
        "    self.bias = nn.Parameter(torch.randn(1 ,\n",
        "                                        requires_grad=True ,\n",
        "                                        dtype=torch.float))\n",
        "  def forward(self , x : torch.Tensor) -> torch.Tensor:\n",
        "    return  self.weights * x + self.bias\n",
        "\n",
        "\n"
      ],
      "metadata": {
        "id": "Mcd4jFpdaDnQ"
      },
      "execution_count": null,
      "outputs": []
    },
    {
      "cell_type": "code",
      "source": [
        "torch.manual_seed(43)\n",
        "model0 = LienearRegressionModel()\n",
        "model0"
      ],
      "metadata": {
        "id": "5J02Ac4Ta0wT",
        "colab": {
          "base_uri": "https://localhost:8080/"
        },
        "outputId": "2064cd37-c4b3-462a-ccb3-2775bacaa754"
      },
      "execution_count": null,
      "outputs": [
        {
          "output_type": "execute_result",
          "data": {
            "text/plain": [
              "LienearRegressionModel()"
            ]
          },
          "metadata": {},
          "execution_count": 132
        }
      ]
    },
    {
      "cell_type": "code",
      "source": [
        "with torch.inference_mode():\n",
        "  y_preds = model0(X_test)\n",
        "\n",
        "y_preds"
      ],
      "metadata": {
        "colab": {
          "base_uri": "https://localhost:8080/"
        },
        "id": "M86lLesTpZYn",
        "outputId": "73b138fc-f354-4fd5-c108-109c11badaed"
      },
      "execution_count": null,
      "outputs": [
        {
          "output_type": "execute_result",
          "data": {
            "text/plain": [
              "tensor([[-1.2246],\n",
              "        [-1.2375],\n",
              "        [-1.2505],\n",
              "        [-1.2635],\n",
              "        [-1.2764],\n",
              "        [-1.2894],\n",
              "        [-1.3024],\n",
              "        [-1.3153],\n",
              "        [-1.3283],\n",
              "        [-1.3413]])"
            ]
          },
          "metadata": {},
          "execution_count": 133
        }
      ]
    },
    {
      "cell_type": "code",
      "source": [
        "plot_predictions(predictions= y_preds)"
      ],
      "metadata": {
        "colab": {
          "base_uri": "https://localhost:8080/",
          "height": 445
        },
        "id": "aAP_k2Phtwoh",
        "outputId": "9966b968-af9b-4754-a8bc-41e5514787c4"
      },
      "execution_count": null,
      "outputs": [
        {
          "output_type": "display_data",
          "data": {
            "text/plain": [
              "<Figure size 700x500 with 1 Axes>"
            ],
            "image/png": "[encoded data removed]"
          },
          "metadata": {}
        }
      ]
    },
    {
      "cell_type": "code",
      "source": [
        "model0.state_dict()"
      ],
      "metadata": {
        "id": "ZmjOqReSuR0J",
        "colab": {
          "base_uri": "https://localhost:8080/"
        },
        "outputId": "3e66b4c0-35dc-469f-eb76-da88236b2409"
      },
      "execution_count": null,
      "outputs": [
        {
          "output_type": "execute_result",
          "data": {
            "text/plain": [
              "OrderedDict([('weights', tensor([-0.6484])), ('bias', tensor([-0.7058]))])"
            ]
          },
          "metadata": {},
          "execution_count": 135
        }
      ]
    },
    {
      "cell_type": "code",
      "source": [
        "model0.parameters()"
      ],
      "metadata": {
        "colab": {
          "base_uri": "https://localhost:8080/"
        },
        "id": "-NpE1tCgmZF7",
        "outputId": "c6c741be-693c-4d80-8ac1-91b60553ef76"
      },
      "execution_count": null,
      "outputs": [
        {
          "output_type": "execute_result",
          "data": {
            "text/plain": [
              "<generator object Module.parameters at 0x78071d256570>"
            ]
          },
          "metadata": {},
          "execution_count": 136
        }
      ]
    },
    {
      "cell_type": "code",
      "source": [
        "list(model0.parameters())"
      ],
      "metadata": {
        "colab": {
          "base_uri": "https://localhost:8080/"
        },
        "id": "OyLEStFeoZu2",
        "outputId": "5ddae08b-8bb6-47f7-a022-d231bf142202"
      },
      "execution_count": null,
      "outputs": [
        {
          "output_type": "execute_result",
          "data": {
            "text/plain": [
              "[Parameter containing:\n",
              " tensor([-0.6484], requires_grad=True),\n",
              " Parameter containing:\n",
              " tensor([-0.7058], requires_grad=True)]"
            ]
          },
          "metadata": {},
          "execution_count": 137
        }
      ]
    },
    {
      "cell_type": "code",
      "source": [
        "loss_fn = nn.L1Loss()\n",
        "optimizer = torch.optim.SGD(params=model0.parameters()  , lr=0.001)"
      ],
      "metadata": {
        "id": "l7scAi-ClNLn"
      },
      "execution_count": null,
      "outputs": []
    },
    {
      "cell_type": "code",
      "source": [
        "trian_loss_value = []\n",
        "test_loss_value =[]\n",
        "epoch_count = []\n",
        "def trianing():\n",
        "  epochs = 5000\n",
        "\n",
        "  for epoch in range(epochs):\n",
        "    #set the model to traning mode\n",
        "\n",
        "    model0.train() # set all the prameters that require graidient to tracking\n",
        "\n",
        "    # forward pass\n",
        "    y_pred = model0(X_train)\n",
        "\n",
        "    # calculate the loss\n",
        "    loss = loss_fn(y_pred  , y_train)\n",
        "\n",
        "    #optimizer zero grad\n",
        "    optimizer.zero_grad()\n",
        "\n",
        "    #perform bachprop on the loss with respect ot prameters\n",
        "    loss.backward()\n",
        "\n",
        "    #step the o0p-timizser (perform the grtadient desecent)\n",
        "    optimizer.step()\n",
        "\n",
        "\n",
        "    model0.eval() # turns off the gradient tracking\n",
        "\n",
        "\n",
        "    with torch.inference_mode():\n",
        "      pred = model0(X_test)\n",
        "    trian_loss_value.append(loss)\n",
        "    test_loss_value.append(loss_fn(pred , y_test))\n",
        "    epoch_count.append(epoch)\n",
        "    print(f\" epoch = {epoch}\")\n",
        "    print(f\"    the train loss= {loss}\")\n",
        "    print(f\"    the test loss = {loss_fn(pred , y_test)}\")\n",
        "    print(\"---------------------------------------------\")\n",
        "  print(model0.state_dict())"
      ],
      "metadata": {
        "id": "c7QXc3e97Voo"
      },
      "execution_count": null,
      "outputs": []
    },
    {
      "cell_type": "code",
      "source": [
        "trianing()\n"
      ],
      "metadata": {
        "id": "mIVgkv0J9WTR"
      },
      "execution_count": null,
      "outputs": []
    },
    {
      "cell_type": "code",
      "source": [
        "with torch.inference_mode():\n",
        "  y_preds = model0(X_test)\n",
        "\n",
        "y_preds\n",
        "print(\"loss = \", loss_fn(y_preds  , y_test))\n",
        "plot_predictions(predictions= y_preds)\n"
      ],
      "metadata": {
        "colab": {
          "base_uri": "https://localhost:8080/",
          "height": 462
        },
        "id": "4QU6LnUeMGg0",
        "outputId": "07947f2e-b401-4257-f2c1-7c35379f0016"
      },
      "execution_count": null,
      "outputs": [
        {
          "output_type": "stream",
          "name": "stdout",
          "text": [
            "loss =  tensor(0.0008)\n"
          ]
        },
        {
          "output_type": "display_data",
          "data": {
            "text/plain": [
              "<Figure size 700x500 with 1 Axes>"
            ],
            "image/png": "[encoded data removed]"
          },
          "metadata": {}
        }
      ]
    },
    {
      "cell_type": "code",
      "source": [
        "plt.plot(epoch_count , np.array(torch.tensor(trian_loss_value)) ,label=\"trian loss\")\n",
        "plt.plot(epoch_count , test_loss_value ,label=\"test loss\" )\n",
        "plt.title(\"training and test loss curves\")\n",
        "plt.ylabel(\"loss\")\n",
        "plt.xlabel(\"epochs\")\n",
        "plt.legend()\n"
      ],
      "metadata": {
        "id": "eDinmuTBNReZ",
        "colab": {
          "base_uri": "https://localhost:8080/",
          "height": 489
        },
        "outputId": "3ff8362e-e241-4391-fc41-30fbf83e7bff"
      },
      "execution_count": null,
      "outputs": [
        {
          "output_type": "execute_result",
          "data": {
            "text/plain": [
              "<matplotlib.legend.Legend at 0x78071e11b250>"
            ]
          },
          "metadata": {},
          "execution_count": 142
        },
        {
          "output_type": "display_data",
          "data": {
            "text/plain": [
              "<Figure size 640x480 with 1 Axes>"
            ],
            "image/png": "[encoded data removed]"
          },
          "metadata": {}
        }
      ]
    },
    {
      "cell_type": "code",
      "source": [
        "optimizer.state_dict()"
      ],
      "metadata": {
        "colab": {
          "base_uri": "https://localhost:8080/"
        },
        "id": "wbApwocIFIGC",
        "outputId": "5eaf2316-e2d3-4cc5-a014-d3d84bc20e51"
      },
      "execution_count": null,
      "outputs": [
        {
          "output_type": "execute_result",
          "data": {
            "text/plain": [
              "{'state': {0: {'momentum_buffer': None}, 1: {'momentum_buffer': None}},\n",
              " 'param_groups': [{'lr': 0.001,\n",
              "   'momentum': 0,\n",
              "   'dampening': 0,\n",
              "   'weight_decay': 0,\n",
              "   'nesterov': False,\n",
              "   'maximize': False,\n",
              "   'foreach': None,\n",
              "   'differentiable': False,\n",
              "   'params': [0, 1]}]}"
            ]
          },
          "metadata": {},
          "execution_count": 143
        }
      ]
    },
    {
      "cell_type": "code",
      "source": [
        "# savin the model parameters\n",
        "\n",
        "from pathlib import Path\n",
        "# 1.create model dir3ectory\n",
        "model_path = Path(\"models\")\n",
        "model_path.mkdir(parents=True , exist_ok= True)\n",
        "\n",
        "# 2.crate model save path\n",
        "model_name = \"01_pytorch_workflow.pth\"\n",
        "model_save_path = model_path / model_name\n",
        "model_save_path\n",
        "\n",
        "\n",
        "torch.save(model0.state_dict() , model_save_path)"
      ],
      "metadata": {
        "id": "v68MAA4KMDNJ"
      },
      "execution_count": null,
      "outputs": []
    },
    {
      "cell_type": "code",
      "source": [
        "model = LienearRegressionModel()\n",
        "model.load_state_dict(torch.load(f=model_save_path))\n",
        "model.eval()"
      ],
      "metadata": {
        "colab": {
          "base_uri": "https://localhost:8080/"
        },
        "id": "gsbPDDvQkKJL",
        "outputId": "b7f0d3a2-4899-481b-f197-02f4f36f5cb6"
      },
      "execution_count": null,
      "outputs": [
        {
          "output_type": "execute_result",
          "data": {
            "text/plain": [
              "LienearRegressionModel()"
            ]
          },
          "metadata": {},
          "execution_count": 158
        }
      ]
    },
    {
      "cell_type": "markdown",
      "source": [
        "secend model\n",
        "\n"
      ],
      "metadata": {
        "id": "SNw7RnFJqwGz"
      }
    },
    {
      "cell_type": "code",
      "source": [
        "weight = 0.7\n",
        "bias = 0.3\n",
        "\n",
        "\n",
        "start = 0\n",
        "end = 1\n",
        "step = 0.02\n",
        "\n",
        "x = torch.arange(start , end , step).unsqueeze(dim=1)\n",
        "y = weight*x + bias"
      ],
      "metadata": {
        "id": "Yef9appSlK8O"
      },
      "execution_count": null,
      "outputs": []
    },
    {
      "cell_type": "code",
      "source": [
        "from sklearn.model_selection import train_test_split\n",
        "trainX , testX ,trainY  , testY = train_test_split(x , y , test_size=0.2)"
      ],
      "metadata": {
        "id": "H3G8sBlVrYta"
      },
      "execution_count": null,
      "outputs": []
    },
    {
      "cell_type": "code",
      "source": [
        "# plot the data\n",
        "plot_predictions(trainX , trainY , testX , testY)"
      ],
      "metadata": {
        "colab": {
          "base_uri": "https://localhost:8080/",
          "height": 445
        },
        "id": "e481tycKsOO_",
        "outputId": "14f95eff-ea15-45e7-c297-0e0011797f0b"
      },
      "execution_count": null,
      "outputs": [
        {
          "output_type": "display_data",
          "data": {
            "text/plain": [
              "<Figure size 700x500 with 1 Axes>"
            ],
            "image/png": "[encoded data removed]"
          },
          "metadata": {}
        }
      ]
    },
    {
      "cell_type": "code",
      "source": [
        "class linearRegressionModelV2(nn.Module):\n",
        "  def __init__(self):\n",
        "    super().__init__()\n",
        "\n",
        "    self.linear_layer = nn.Linear(in_features=1,\n",
        "                                  out_features=1)\n",
        "\n",
        "  def forward(self, x : torch.Tensor) -> torch.Tensor:\n",
        "    return self.linear_layer(x)\n",
        "\n",
        "\n",
        "\n",
        "torch.manual_seed(42)\n",
        "model1 = linearRegressionModelV2()\n",
        "\n",
        "model1.state_dict()\n",
        "\n",
        "\n"
      ],
      "metadata": {
        "colab": {
          "base_uri": "https://localhost:8080/"
        },
        "id": "5Td9wmuHs7A5",
        "outputId": "d1c4cd25-5932-46fe-bbf6-83779ae09903"
      },
      "execution_count": null,
      "outputs": [
        {
          "output_type": "execute_result",
          "data": {
            "text/plain": [
              "OrderedDict([('linear_layer.weight', tensor([[0.7645]])),\n",
              "             ('linear_layer.bias', tensor([0.8300]))])"
            ]
          },
          "metadata": {},
          "execution_count": 102
        }
      ]
    },
    {
      "cell_type": "code",
      "source": [
        "with torch.inference_mode():\n",
        " pred = model1(testX)\n",
        "\n",
        "plot_predictions(trainX , trainY , testX , testY , predictions=pred)"
      ],
      "metadata": {
        "colab": {
          "base_uri": "https://localhost:8080/",
          "height": 445
        },
        "id": "hE5AI8jav7O8",
        "outputId": "f96d6387-2a18-4304-8c91-fa297d1d74d2"
      },
      "execution_count": null,
      "outputs": [
        {
          "output_type": "display_data",
          "data": {
            "text/plain": [
              "<Figure size 700x500 with 1 Axes>"
            ],
            "image/png": "[encoded data removed]"
          },
          "metadata": {}
        }
      ]
    },
    {
      "cell_type": "code",
      "source": [
        "next(model1.parameters()).device"
      ],
      "metadata": {
        "colab": {
          "base_uri": "https://localhost:8080/"
        },
        "id": "ZGAyXAKDwTxd",
        "outputId": "47930b7f-9966-4773-99b6-a861c2091479"
      },
      "execution_count": null,
      "outputs": [
        {
          "output_type": "execute_result",
          "data": {
            "text/plain": [
              "device(type='cpu')"
            ]
          },
          "metadata": {},
          "execution_count": 51
        }
      ]
    },
    {
      "cell_type": "code",
      "source": [
        "device = \"cuda\" if torch.cuda.is_available() else \"cpu\""
      ],
      "metadata": {
        "id": "qfhITx6Cyrdp"
      },
      "execution_count": null,
      "outputs": []
    },
    {
      "cell_type": "code",
      "source": [
        "model1.to(device)"
      ],
      "metadata": {
        "id": "o3OjOCB-zMNo"
      },
      "execution_count": null,
      "outputs": []
    },
    {
      "cell_type": "code",
      "source": [
        "loss_fn = nn.L1Loss()\n",
        "optimizer = torch.optim.SGD(params=model1.parameters()  , lr=0.001)"
      ],
      "metadata": {
        "id": "BfEtlUrgzafw"
      },
      "execution_count": null,
      "outputs": []
    },
    {
      "cell_type": "code",
      "source": [
        "epochs=100\n",
        "for epoch in range(epochs ):\n",
        "\n",
        "  model1.train()\n",
        "\n",
        "  predY = model1(trainX)\n",
        "\n",
        "\n",
        "  loss = loss_fn(predY , trainY)\n",
        "\n",
        "  optimizer.zero_grad()\n",
        "\n",
        "  loss.backward()\n",
        "\n",
        "  optimizer.step()\n",
        "\n",
        "  model1.eval()\n",
        "  with torch.inference_mode():\n",
        "    test_p = model1(testX)\n",
        "    test_loss = loss_fn(test_p , testX)\n",
        "\n",
        "  print(f\"loss: {loss} \\n test loss:{test_loss} \\n ------------------\")\n",
        "\n",
        "\n",
        "\n",
        "\n",
        "\n",
        "\n"
      ],
      "metadata": {
        "colab": {
          "base_uri": "https://localhost:8080/"
        },
        "id": "GEpYB6-M0KQU",
        "outputId": "6c1eb699-7248-4423-87e1-c7a4ab5242e0"
      },
      "execution_count": null,
      "outputs": [
        {
          "output_type": "stream",
          "name": "stdout",
          "text": [
            "loss: 0.01858023926615715 \n",
            " test loss:0.12402965128421783 \n",
            " ------------------\n",
            "loss: 0.018535081297159195 \n",
            " test loss:0.1240086778998375 \n",
            " ------------------\n",
            "loss: 0.01848992332816124 \n",
            " test loss:0.12398767471313477 \n",
            " ------------------\n",
            "loss: 0.018444769084453583 \n",
            " test loss:0.12396669387817383 \n",
            " ------------------\n",
            "loss: 0.018399614840745926 \n",
            " test loss:0.1239456906914711 \n",
            " ------------------\n",
            "loss: 0.018354449421167374 \n",
            " test loss:0.12392470985651016 \n",
            " ------------------\n",
            "loss: 0.01830929145216942 \n",
            " test loss:0.12390372902154922 \n",
            " ------------------\n",
            "loss: 0.01826413907110691 \n",
            " test loss:0.12388274818658829 \n",
            " ------------------\n",
            "loss: 0.01821897178888321 \n",
            " test loss:0.12386174499988556 \n",
            " ------------------\n",
            "loss: 0.018173823133111 \n",
            " test loss:0.12384076416492462 \n",
            " ------------------\n",
            "loss: 0.018128663301467896 \n",
            " test loss:0.12381978332996368 \n",
            " ------------------\n",
            "loss: 0.01808350160717964 \n",
            " test loss:0.12379878759384155 \n",
            " ------------------\n",
            "loss: 0.018038343638181686 \n",
            " test loss:0.12377780675888062 \n",
            " ------------------\n",
            "loss: 0.017993193119764328 \n",
            " test loss:0.12375680357217789 \n",
            " ------------------\n",
            "loss: 0.017948033288121223 \n",
            " test loss:0.12373583018779755 \n",
            " ------------------\n",
            "loss: 0.01790287159383297 \n",
            " test loss:0.12371481955051422 \n",
            " ------------------\n",
            "loss: 0.017857717350125313 \n",
            " test loss:0.12369384616613388 \n",
            " ------------------\n",
            "loss: 0.017812557518482208 \n",
            " test loss:0.12367284297943115 \n",
            " ------------------\n",
            "loss: 0.017767399549484253 \n",
            " test loss:0.12365186214447021 \n",
            " ------------------\n",
            "loss: 0.01772223599255085 \n",
            " test loss:0.12363086640834808 \n",
            " ------------------\n",
            "loss: 0.017677083611488342 \n",
            " test loss:0.12360990047454834 \n",
            " ------------------\n",
            "loss: 0.01763192191720009 \n",
            " test loss:0.12358889728784561 \n",
            " ------------------\n",
            "loss: 0.017586765810847282 \n",
            " test loss:0.12356790155172348 \n",
            " ------------------\n",
            "loss: 0.017541609704494476 \n",
            " test loss:0.12354691326618195 \n",
            " ------------------\n",
            "loss: 0.01749645546078682 \n",
            " test loss:0.12352591753005981 \n",
            " ------------------\n",
            "loss: 0.01745149865746498 \n",
            " test loss:0.12353990226984024 \n",
            " ------------------\n",
            "loss: 0.017406640574336052 \n",
            " test loss:0.1235189214348793 \n",
            " ------------------\n",
            "loss: 0.017361482605338097 \n",
            " test loss:0.12349794059991837 \n",
            " ------------------\n",
            "loss: 0.017316319048404694 \n",
            " test loss:0.12347695976495743 \n",
            " ------------------\n",
            "loss: 0.017271172255277634 \n",
            " test loss:0.1234559565782547 \n",
            " ------------------\n",
            "loss: 0.01722601428627968 \n",
            " test loss:0.12343494594097137 \n",
            " ------------------\n",
            "loss: 0.017180975526571274 \n",
            " test loss:0.12344896793365479 \n",
            " ------------------\n",
            "loss: 0.01713619753718376 \n",
            " test loss:0.12342796474695206 \n",
            " ------------------\n",
            "loss: 0.017091041430830956 \n",
            " test loss:0.12340698391199112 \n",
            " ------------------\n",
            "loss: 0.017045874148607254 \n",
            " test loss:0.12338598072528839 \n",
            " ------------------\n",
            "loss: 0.017000725492835045 \n",
            " test loss:0.12336499989032745 \n",
            " ------------------\n",
            "loss: 0.01695556566119194 \n",
            " test loss:0.12334401905536652 \n",
            " ------------------\n",
            "loss: 0.016910452395677567 \n",
            " test loss:0.12335797399282455 \n",
            " ------------------\n",
            "loss: 0.016865750774741173 \n",
            " test loss:0.12333700805902481 \n",
            " ------------------\n",
            "loss: 0.016820594668388367 \n",
            " test loss:0.12331602722406387 \n",
            " ------------------\n",
            "loss: 0.01677544414997101 \n",
            " test loss:0.12329503148794174 \n",
            " ------------------\n",
            "loss: 0.016730284318327904 \n",
            " test loss:0.12327404320240021 \n",
            " ------------------\n",
            "loss: 0.0166851207613945 \n",
            " test loss:0.12325304746627808 \n",
            " ------------------\n",
            "loss: 0.016639962792396545 \n",
            " test loss:0.12323205173015594 \n",
            " ------------------\n",
            "loss: 0.016595272347331047 \n",
            " test loss:0.12324605137109756 \n",
            " ------------------\n",
            "loss: 0.016550159081816673 \n",
            " test loss:0.12322504818439484 \n",
            " ------------------\n",
            "loss: 0.016504989936947823 \n",
            " test loss:0.1232040524482727 \n",
            " ------------------\n",
            "loss: 0.01645984686911106 \n",
            " test loss:0.12318308651447296 \n",
            " ------------------\n",
            "loss: 0.016414683312177658 \n",
            " test loss:0.12316209077835083 \n",
            " ------------------\n",
            "loss: 0.016369521617889404 \n",
            " test loss:0.1231410875916481 \n",
            " ------------------\n",
            "loss: 0.016324752941727638 \n",
            " test loss:0.12315507978200912 \n",
            " ------------------\n",
            "loss: 0.016279712319374084 \n",
            " test loss:0.12313409149646759 \n",
            " ------------------\n",
            "loss: 0.01623455435037613 \n",
            " test loss:0.12311311066150665 \n",
            " ------------------\n",
            "loss: 0.016189396381378174 \n",
            " test loss:0.12309210002422333 \n",
            " ------------------\n",
            "loss: 0.016144240275025368 \n",
            " test loss:0.12307111918926239 \n",
            " ------------------\n",
            "loss: 0.016099080443382263 \n",
            " test loss:0.12305013835430145 \n",
            " ------------------\n",
            "loss: 0.016054227948188782 \n",
            " test loss:0.12306411564350128 \n",
            " ------------------\n",
            "loss: 0.016009273007512093 \n",
            " test loss:0.12304311990737915 \n",
            " ------------------\n",
            "loss: 0.01596410945057869 \n",
            " test loss:0.12302212417125702 \n",
            " ------------------\n",
            "loss: 0.015918955206871033 \n",
            " test loss:0.12300114333629608 \n",
            " ------------------\n",
            "loss: 0.015873800963163376 \n",
            " test loss:0.12298016250133514 \n",
            " ------------------\n",
            "loss: 0.015828635543584824 \n",
            " test loss:0.12295917421579361 \n",
            " ------------------\n",
            "loss: 0.015783706679940224 \n",
            " test loss:0.12297315895557404 \n",
            " ------------------\n",
            "loss: 0.015738826245069504 \n",
            " test loss:0.1229521632194519 \n",
            " ------------------\n",
            "loss: 0.01569366827607155 \n",
            " test loss:0.12293116748332977 \n",
            " ------------------\n",
            "loss: 0.01564851589500904 \n",
            " test loss:0.12291017919778824 \n",
            " ------------------\n",
            "loss: 0.01560334861278534 \n",
            " test loss:0.1228892058134079 \n",
            " ------------------\n",
            "loss: 0.015558195300400257 \n",
            " test loss:0.12286821752786636 \n",
            " ------------------\n",
            "loss: 0.015513181686401367 \n",
            " test loss:0.12288220226764679 \n",
            " ------------------\n",
            "loss: 0.01546837855130434 \n",
            " test loss:0.12286122143268585 \n",
            " ------------------\n",
            "loss: 0.015423232689499855 \n",
            " test loss:0.12284021079540253 \n",
            " ------------------\n",
            "loss: 0.01537807285785675 \n",
            " test loss:0.1228192076086998 \n",
            " ------------------\n",
            "loss: 0.015332909300923347 \n",
            " test loss:0.12279824912548065 \n",
            " ------------------\n",
            "loss: 0.015287759713828564 \n",
            " test loss:0.12277724593877792 \n",
            " ------------------\n",
            "loss: 0.01524266041815281 \n",
            " test loss:0.12279124557971954 \n",
            " ------------------\n",
            "loss: 0.015197934582829475 \n",
            " test loss:0.12277023494243622 \n",
            " ------------------\n",
            "loss: 0.015152784995734692 \n",
            " test loss:0.12274925410747528 \n",
            " ------------------\n",
            "loss: 0.015107626095414162 \n",
            " test loss:0.12272827327251434 \n",
            " ------------------\n",
            "loss: 0.015062461607158184 \n",
            " test loss:0.12270728498697281 \n",
            " ------------------\n",
            "loss: 0.015017305500805378 \n",
            " test loss:0.12268630415201187 \n",
            " ------------------\n",
            "loss: 0.01497215498238802 \n",
            " test loss:0.12266530096530914 \n",
            " ------------------\n",
            "loss: 0.01492747850716114 \n",
            " test loss:0.12267929315567017 \n",
            " ------------------\n",
            "loss: 0.01488234382122755 \n",
            " test loss:0.12265829741954803 \n",
            " ------------------\n",
            "loss: 0.014837181195616722 \n",
            " test loss:0.1226373091340065 \n",
            " ------------------\n",
            "loss: 0.014792022295296192 \n",
            " test loss:0.12261631339788437 \n",
            " ------------------\n",
            "loss: 0.014746865257620811 \n",
            " test loss:0.12259533256292343 \n",
            " ------------------\n",
            "loss: 0.014701711013913155 \n",
            " test loss:0.1225743293762207 \n",
            " ------------------\n",
            "loss: 0.01465695071965456 \n",
            " test loss:0.12258831411600113 \n",
            " ------------------\n",
            "loss: 0.014611905440688133 \n",
            " test loss:0.12256734073162079 \n",
            " ------------------\n",
            "loss: 0.01456674374639988 \n",
            " test loss:0.12254635244607925 \n",
            " ------------------\n",
            "loss: 0.014521582052111626 \n",
            " test loss:0.12252534925937653 \n",
            " ------------------\n",
            "loss: 0.01447642408311367 \n",
            " test loss:0.12250437587499619 \n",
            " ------------------\n",
            "loss: 0.014431267976760864 \n",
            " test loss:0.12248338758945465 \n",
            " ------------------\n",
            "loss: 0.014386428520083427 \n",
            " test loss:0.12249736487865448 \n",
            " ------------------\n",
            "loss: 0.01434145588427782 \n",
            " test loss:0.12247636169195175 \n",
            " ------------------\n",
            "loss: 0.01429629884660244 \n",
            " test loss:0.12245538085699081 \n",
            " ------------------\n",
            "loss: 0.01425113994628191 \n",
            " test loss:0.12243440002202988 \n",
            " ------------------\n",
            "loss: 0.014205981977283955 \n",
            " test loss:0.12241339683532715 \n",
            " ------------------\n",
            "loss: 0.014160824939608574 \n",
            " test loss:0.12239241600036621 \n",
            " ------------------\n",
            "loss: 0.014115897938609123 \n",
            " test loss:0.12240638583898544 \n",
            " ------------------\n"
          ]
        }
      ]
    },
    {
      "cell_type": "code",
      "source": [
        "model1.state_dict()"
      ],
      "metadata": {
        "colab": {
          "base_uri": "https://localhost:8080/"
        },
        "id": "CGR-_4FK2IDM",
        "outputId": "02546d1d-7c67-4fa2-ca90-0346ef2a3067"
      },
      "execution_count": null,
      "outputs": [
        {
          "output_type": "execute_result",
          "data": {
            "text/plain": [
              "OrderedDict([('linear_layer.weight', tensor([[0.5688]])),\n",
              "             ('linear_layer.bias', tensor([0.3756]))])"
            ]
          },
          "metadata": {},
          "execution_count": 114
        }
      ]
    },
    {
      "cell_type": "code",
      "source": [
        "from pathlib import Path\n",
        "path = Path(\"models\")\n",
        "path.mkdir()\n",
        "torch.save(model1.state_dict() , \"models/thefuckingmodel1.pth\")"
      ],
      "metadata": {
        "id": "_rOihi7j2L0O"
      },
      "execution_count": null,
      "outputs": []
    },
    {
      "cell_type": "code",
      "source": [
        "8:52:07"
      ],
      "metadata": {
        "id": "0ZPUw5k05bjT"
      },
      "execution_count": null,
      "outputs": []
    }
  ]
}