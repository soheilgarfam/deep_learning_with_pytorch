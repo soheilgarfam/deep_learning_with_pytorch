{
  "nbformat": 4,
  "nbformat_minor": 0,
  "metadata": {
    "colab": {
      "provenance": [],
      "authorship_tag": "ABX9TyNYZSKsUTydeAoyx+hBQS5I",
      "include_colab_link": true
    },
    "kernelspec": {
      "name": "python3",
      "display_name": "Python 3"
    },
    "language_info": {
      "name": "python"
    }
  },
  "cells": [
    {
      "cell_type": "markdown",
      "metadata": {
        "id": "view-in-github",
        "colab_type": "text"
      },
      "source": [
        "<a href=\"https://colab.research.google.com/github/soheilgarfam/deep_learning_with_pytorch/blob/main/tensors.ipynb\" target=\"_parent\"><img src=\"https://colab.research.google.com/assets/colab-badge.svg\" alt=\"Open In Colab\"/></a>"
      ]
    },
    {
      "cell_type": "markdown",
      "source": [
        "# Tensors in pytorch\n",
        "**this is a cheatsheet to use  tensor in pytorch**\n",
        "\n",
        "\n",
        "\n",
        "*to learn pytorch in python It is  crucial to first learn about **tensors** and  see how we can work with them .*\n",
        "\n",
        "\n",
        "***What is a Tensor?***\n",
        "\n",
        "Tensors are simply mathematical objects that can be used to describe physical properties, just like scalars and vectors. In fact tensors are merely a generalisation of scalars and vectors; a scalar is a zero rank tensor, and a vector is a first rank tensor.\n",
        "\n"
      ],
      "metadata": {
        "id": "v1DEngwRYhw2"
      }
    },
    {
      "cell_type": "code",
      "execution_count": 54,
      "metadata": {
        "colab": {
          "base_uri": "https://localhost:8080/",
          "height": 36
        },
        "id": "4ahXxAe9MZ8G",
        "outputId": "e8e6b740-6e4e-46af-bf4b-47ca005d4e5e"
      },
      "outputs": [
        {
          "output_type": "execute_result",
          "data": {
            "text/plain": [
              "'2.1.0+cu121'"
            ],
            "application/vnd.google.colaboratory.intrinsic+json": {
              "type": "string"
            }
          },
          "metadata": {},
          "execution_count": 54
        }
      ],
      "source": [
        "# first lets import the pytorch lib\n",
        "\n",
        "import torch\n",
        "torch.__version__\n"
      ]
    },
    {
      "cell_type": "markdown",
      "source": [],
      "metadata": {
        "id": "s-3sBS4WaBXd"
      }
    },
    {
      "cell_type": "code",
      "source": [
        "\n",
        "scalar = torch.tensor(7)\n",
        "scalar"
      ],
      "metadata": {
        "colab": {
          "base_uri": "https://localhost:8080/"
        },
        "id": "yKFk5-efOr3-",
        "outputId": "9fc41fc3-a244-4bca-8e2e-adf4dd2b8ae0"
      },
      "execution_count": 55,
      "outputs": [
        {
          "output_type": "execute_result",
          "data": {
            "text/plain": [
              "tensor(7)"
            ]
          },
          "metadata": {},
          "execution_count": 55
        }
      ]
    },
    {
      "cell_type": "code",
      "source": [
        "vector = torch.tensor([2 , 3 , 4])\n",
        "vector"
      ],
      "metadata": {
        "colab": {
          "base_uri": "https://localhost:8080/"
        },
        "id": "WRhNUSZGO1Zt",
        "outputId": "908d3e2e-1ef9-4daf-a338-8dddbe52fca3"
      },
      "execution_count": 56,
      "outputs": [
        {
          "output_type": "execute_result",
          "data": {
            "text/plain": [
              "tensor([2, 3, 4])"
            ]
          },
          "metadata": {},
          "execution_count": 56
        }
      ]
    },
    {
      "cell_type": "code",
      "source": [
        "# with the attribute ndim we can see how many dimension our vector has\n",
        "vector.ndim"
      ],
      "metadata": {
        "colab": {
          "base_uri": "https://localhost:8080/"
        },
        "id": "lf4ASVYqPamD",
        "outputId": "39bed737-c11f-47ff-bded-7908188c19ff"
      },
      "execution_count": 57,
      "outputs": [
        {
          "output_type": "execute_result",
          "data": {
            "text/plain": [
              "1"
            ]
          },
          "metadata": {},
          "execution_count": 57
        }
      ]
    },
    {
      "cell_type": "code",
      "source": [
        "# now lets see the size or shape of our vector\n",
        "vector.shape"
      ],
      "metadata": {
        "colab": {
          "base_uri": "https://localhost:8080/"
        },
        "id": "kQzhGdHvO9av",
        "outputId": "7549cfe8-2354-4976-a535-7d23ff2c4409"
      },
      "execution_count": 58,
      "outputs": [
        {
          "output_type": "execute_result",
          "data": {
            "text/plain": [
              "torch.Size([3])"
            ]
          },
          "metadata": {},
          "execution_count": 58
        }
      ]
    },
    {
      "cell_type": "code",
      "source": [
        "MATRIX = torch.tensor([[1 , 2 , 3  ] ,\n",
        "                       [4 , 5 , 6]])\n",
        "MATRIX.shape"
      ],
      "metadata": {
        "colab": {
          "base_uri": "https://localhost:8080/"
        },
        "id": "wk4xBNmGPEB1",
        "outputId": "0fd3d480-c358-4b69-8f8a-45a865d17afe"
      },
      "execution_count": 59,
      "outputs": [
        {
          "output_type": "execute_result",
          "data": {
            "text/plain": [
              "torch.Size([2, 3])"
            ]
          },
          "metadata": {},
          "execution_count": 59
        }
      ]
    },
    {
      "cell_type": "code",
      "source": [
        "TENSOR = torch.tensor([\n",
        "                        [[1 , 2 , 3  , 4],\n",
        "                         [5 , 6 , 7 , 8] ,\n",
        "                         [9 , 10 ,11 ,12]] ,\n",
        "\n",
        "                        [[-1 , -2 , -3  , -4],\n",
        "                         [-5 , -6 , -7 , -8] ,\n",
        "                         [-9 , -10 ,-11 ,-12]]\n",
        "                        ])\n",
        "\n",
        "TENSOR.shape"
      ],
      "metadata": {
        "colab": {
          "base_uri": "https://localhost:8080/"
        },
        "id": "8cMfq8-zP2yK",
        "outputId": "c21483b2-8a48-42c6-e748-75f3e54cc7b6"
      },
      "execution_count": 60,
      "outputs": [
        {
          "output_type": "execute_result",
          "data": {
            "text/plain": [
              "torch.Size([2, 3, 4])"
            ]
          },
          "metadata": {},
          "execution_count": 60
        }
      ]
    },
    {
      "cell_type": "code",
      "source": [
        "# Creat a random tenor\n",
        "randomTensor = torch.rand(  2  ,3 , 4  )\n",
        "randomTensor"
      ],
      "metadata": {
        "colab": {
          "base_uri": "https://localhost:8080/"
        },
        "id": "Fy7Lg-Q0R0By",
        "outputId": "c5055b4d-39af-43d1-a509-e0ffa2cb27ee"
      },
      "execution_count": 61,
      "outputs": [
        {
          "output_type": "execute_result",
          "data": {
            "text/plain": [
              "tensor([[[0.9941, 0.7695, 0.5300, 0.1235],\n",
              "         [0.8632, 0.5395, 0.2508, 0.9083],\n",
              "         [0.7288, 0.8050, 0.3390, 0.1717]],\n",
              "\n",
              "        [[0.4133, 0.1097, 0.1889, 0.6292],\n",
              "         [0.0676, 0.2344, 0.5315, 0.1638],\n",
              "         [0.4808, 0.3403, 0.5241, 0.4758]]])"
            ]
          },
          "metadata": {},
          "execution_count": 61
        }
      ]
    },
    {
      "cell_type": "code",
      "source": [
        "zeros = torch.zeros(2 ,3 , 4)\n",
        "zeros"
      ],
      "metadata": {
        "colab": {
          "base_uri": "https://localhost:8080/"
        },
        "id": "7X5Fc9NtUqHN",
        "outputId": "e577fecf-c5e6-4647-f192-1a706f31b5de"
      },
      "execution_count": 62,
      "outputs": [
        {
          "output_type": "execute_result",
          "data": {
            "text/plain": [
              "tensor([[[0., 0., 0., 0.],\n",
              "         [0., 0., 0., 0.],\n",
              "         [0., 0., 0., 0.]],\n",
              "\n",
              "        [[0., 0., 0., 0.],\n",
              "         [0., 0., 0., 0.],\n",
              "         [0., 0., 0., 0.]]])"
            ]
          },
          "metadata": {},
          "execution_count": 62
        }
      ]
    },
    {
      "cell_type": "markdown",
      "source": [
        "with **zeros_like** we can buil a zero tensor with the exact shape of another tensor that we have"
      ],
      "metadata": {
        "id": "PoK9jDygbbV_"
      }
    },
    {
      "cell_type": "code",
      "source": [
        "torch.zeros_like(randomTensor)"
      ],
      "metadata": {
        "colab": {
          "base_uri": "https://localhost:8080/"
        },
        "id": "7juriZZI2pSH",
        "outputId": "4f513836-ffb6-4dcd-ee3a-21e5abf00b63"
      },
      "execution_count": 63,
      "outputs": [
        {
          "output_type": "execute_result",
          "data": {
            "text/plain": [
              "tensor([[[0., 0., 0., 0.],\n",
              "         [0., 0., 0., 0.],\n",
              "         [0., 0., 0., 0.]],\n",
              "\n",
              "        [[0., 0., 0., 0.],\n",
              "         [0., 0., 0., 0.],\n",
              "         [0., 0., 0., 0.]]])"
            ]
          },
          "metadata": {},
          "execution_count": 63
        }
      ]
    },
    {
      "cell_type": "code",
      "source": [
        "oneToTen = torch.arange(1 , 11)\n",
        "oneToTen"
      ],
      "metadata": {
        "colab": {
          "base_uri": "https://localhost:8080/"
        },
        "id": "w1FBBA2q16Bh",
        "outputId": "d18030a4-abe7-465a-8b20-6aec82f705ff"
      },
      "execution_count": 64,
      "outputs": [
        {
          "output_type": "execute_result",
          "data": {
            "text/plain": [
              "tensor([ 1,  2,  3,  4,  5,  6,  7,  8,  9, 10])"
            ]
          },
          "metadata": {},
          "execution_count": 64
        }
      ]
    },
    {
      "cell_type": "code",
      "source": [
        "tenZeros = torch.zeros_like(oneToTen)\n",
        "tenZeros"
      ],
      "metadata": {
        "colab": {
          "base_uri": "https://localhost:8080/"
        },
        "id": "6Ixasr432HI4",
        "outputId": "2bee37ff-aad9-4ffe-cc6e-e82527943da1"
      },
      "execution_count": 65,
      "outputs": [
        {
          "output_type": "execute_result",
          "data": {
            "text/plain": [
              "tensor([0, 0, 0, 0, 0, 0, 0, 0, 0, 0])"
            ]
          },
          "metadata": {},
          "execution_count": 65
        }
      ]
    },
    {
      "cell_type": "markdown",
      "source": [
        "tensor Datatype"
      ],
      "metadata": {
        "id": "39zeWuK63CtQ"
      }
    },
    {
      "cell_type": "code",
      "source": [
        "randomTensor.dtype"
      ],
      "metadata": {
        "colab": {
          "base_uri": "https://localhost:8080/"
        },
        "id": "MhxpYr3VWqiE",
        "outputId": "f6b7ec36-9b45-447e-f2db-13772c642ed7"
      },
      "execution_count": 66,
      "outputs": [
        {
          "output_type": "execute_result",
          "data": {
            "text/plain": [
              "torch.float32"
            ]
          },
          "metadata": {},
          "execution_count": 66
        }
      ]
    },
    {
      "cell_type": "code",
      "source": [
        "float_16_tensor = torch.tensor([1 , 2 ,3 , 4 ] , dtype=torch.float16)\n",
        "float_16_tensor.dtype"
      ],
      "metadata": {
        "colab": {
          "base_uri": "https://localhost:8080/"
        },
        "id": "WUifc2LU2ivn",
        "outputId": "a837ca02-6378-4f65-cdb2-081d6f0497f5"
      },
      "execution_count": 67,
      "outputs": [
        {
          "output_type": "execute_result",
          "data": {
            "text/plain": [
              "torch.float16"
            ]
          },
          "metadata": {},
          "execution_count": 67
        }
      ]
    },
    {
      "cell_type": "code",
      "source": [
        "float_32_tensor = float_16_tensor.type(torch.float32)\n",
        "float_32_tensor.dtype"
      ],
      "metadata": {
        "colab": {
          "base_uri": "https://localhost:8080/"
        },
        "id": "E3OfmoaL3nMn",
        "outputId": "49fa9e78-96b0-4082-b457-e981f2acfcff"
      },
      "execution_count": 68,
      "outputs": [
        {
          "output_type": "execute_result",
          "data": {
            "text/plain": [
              "torch.float32"
            ]
          },
          "metadata": {},
          "execution_count": 68
        }
      ]
    },
    {
      "cell_type": "markdown",
      "source": [
        "now lets learn more about tensor operations"
      ],
      "metadata": {
        "id": "w-Z5M9ohw3mU"
      }
    },
    {
      "cell_type": "code",
      "source": [
        "tensor = torch.tensor([1 , 2 , 3])\n",
        "print(tensor + 10)\n",
        "print(tensor * 10)\n",
        "print(tensor / 10)\n",
        "print(tensor - 10)"
      ],
      "metadata": {
        "id": "N-NqsnC15qrY",
        "colab": {
          "base_uri": "https://localhost:8080/"
        },
        "outputId": "30615d54-51d6-4383-a9ab-9936031f8382"
      },
      "execution_count": 69,
      "outputs": [
        {
          "output_type": "stream",
          "name": "stdout",
          "text": [
            "tensor([11, 12, 13])\n",
            "tensor([10, 20, 30])\n",
            "tensor([0.1000, 0.2000, 0.3000])\n",
            "tensor([-9, -8, -7])\n"
          ]
        }
      ]
    },
    {
      "cell_type": "code",
      "source": [
        "# also we can use another method to calculate\n",
        "print(torch.add(tensor , 10))\n",
        "print(torch.mul(tensor , 10))\n",
        "print(torch.divide(tensor , 10))\n",
        "print(torch.sub(tensor , 10))"
      ],
      "metadata": {
        "colab": {
          "base_uri": "https://localhost:8080/"
        },
        "id": "Rh9w1d5zxPLg",
        "outputId": "c461b940-52c0-40e2-a466-c6f91f46e5a7"
      },
      "execution_count": 70,
      "outputs": [
        {
          "output_type": "stream",
          "name": "stdout",
          "text": [
            "tensor([11, 12, 13])\n",
            "tensor([10, 20, 30])\n",
            "tensor([0.1000, 0.2000, 0.3000])\n",
            "tensor([-9, -8, -7])\n"
          ]
        }
      ]
    },
    {
      "cell_type": "code",
      "source": [
        "tensor2 = torch.tensor([[1 , 2] ,\n",
        "                        [3 , 4]])"
      ],
      "metadata": {
        "id": "srjBVFPBzy6N"
      },
      "execution_count": 71,
      "outputs": []
    },
    {
      "cell_type": "markdown",
      "source": [
        "In pytorch you can also utilize different types of multiplication for matrices|"
      ],
      "metadata": {
        "id": "sPTuJoGDcWw5"
      }
    },
    {
      "cell_type": "code",
      "source": [
        "# normal muliplication\n",
        "print(tensor.mul(tensor))\n",
        "# cross fuction\n",
        "print(tensor2.matmul(tensor2))\n",
        "#dot function\n",
        "print(tensor.dot(tensor))\n"
      ],
      "metadata": {
        "colab": {
          "base_uri": "https://localhost:8080/"
        },
        "id": "nQ1BVYF9xj4z",
        "outputId": "b5ebd89f-0f09-4205-803a-70f8a0893016"
      },
      "execution_count": 72,
      "outputs": [
        {
          "output_type": "stream",
          "name": "stdout",
          "text": [
            "tensor([1, 4, 9])\n",
            "tensor([[ 7, 10],\n",
            "        [15, 22]])\n",
            "tensor(14)\n"
          ]
        }
      ]
    },
    {
      "cell_type": "code",
      "source": [
        "#adding the diagonal valus (known as trace in math)\n",
        "torch.trace(tensor2)"
      ],
      "metadata": {
        "colab": {
          "base_uri": "https://localhost:8080/"
        },
        "id": "IkbVeRWzyRf-",
        "outputId": "72ad1a57-2a03-4d6c-9a39-b08cbdce07b2"
      },
      "execution_count": 73,
      "outputs": [
        {
          "output_type": "execute_result",
          "data": {
            "text/plain": [
              "tensor(5)"
            ]
          },
          "metadata": {},
          "execution_count": 73
        }
      ]
    },
    {
      "cell_type": "code",
      "source": [
        "#teranspose a matrix(changing rows to columns & columns to rows)\n",
        "torch.t(tensor2)"
      ],
      "metadata": {
        "colab": {
          "base_uri": "https://localhost:8080/"
        },
        "id": "Tq8UdTCy07-3",
        "outputId": "cb541a26-b9d3-447a-9c22-dc01c89b327b"
      },
      "execution_count": 74,
      "outputs": [
        {
          "output_type": "execute_result",
          "data": {
            "text/plain": [
              "tensor([[1, 3],\n",
              "        [2, 4]])"
            ]
          },
          "metadata": {},
          "execution_count": 74
        }
      ]
    },
    {
      "cell_type": "code",
      "source": [
        "%time\n",
        "matrix = torch.rand(size=(10 , 10) , dtype=torch.float32)\n",
        "\n",
        "# Calculate the determinant using torch.det()\n",
        "torch.det(matrix)\n"
      ],
      "metadata": {
        "colab": {
          "base_uri": "https://localhost:8080/"
        },
        "id": "-YPRLnoJ1MTd",
        "outputId": "29274f5d-5064-4cef-a647-465712d71759"
      },
      "execution_count": 75,
      "outputs": [
        {
          "output_type": "stream",
          "name": "stdout",
          "text": [
            "CPU times: user 4 µs, sys: 1e+03 ns, total: 5 µs\n",
            "Wall time: 8.58 µs\n"
          ]
        },
        {
          "output_type": "execute_result",
          "data": {
            "text/plain": [
              "tensor(-0.0086)"
            ]
          },
          "metadata": {},
          "execution_count": 75
        }
      ]
    },
    {
      "cell_type": "code",
      "source": [
        "tensor = torch.arange(0 , 200 , 20 , dtype=torch.float32)\n",
        "tensor"
      ],
      "metadata": {
        "colab": {
          "base_uri": "https://localhost:8080/"
        },
        "id": "D69_u1Tm3URw",
        "outputId": "172fc745-ef9e-4e12-ebfa-c2519713021e"
      },
      "execution_count": 76,
      "outputs": [
        {
          "output_type": "execute_result",
          "data": {
            "text/plain": [
              "tensor([  0.,  20.,  40.,  60.,  80., 100., 120., 140., 160., 180.])"
            ]
          },
          "metadata": {},
          "execution_count": 76
        }
      ]
    },
    {
      "cell_type": "markdown",
      "source": [
        "**maximum  , minimum ,  average  , median and standard deviation in pytorch**"
      ],
      "metadata": {
        "id": "Q3OxxbTpeGQW"
      }
    },
    {
      "cell_type": "code",
      "source": [
        "torch.max(tensor)  , torch.min(tensor)"
      ],
      "metadata": {
        "colab": {
          "base_uri": "https://localhost:8080/"
        },
        "id": "R5Onij6Y6kdF",
        "outputId": "82d42746-81c6-47b2-eee3-4492d43d2580"
      },
      "execution_count": 77,
      "outputs": [
        {
          "output_type": "execute_result",
          "data": {
            "text/plain": [
              "(tensor(180.), tensor(0.))"
            ]
          },
          "metadata": {},
          "execution_count": 77
        }
      ]
    },
    {
      "cell_type": "code",
      "source": [
        "tensor.max() , tensor.min()"
      ],
      "metadata": {
        "colab": {
          "base_uri": "https://localhost:8080/"
        },
        "id": "3lO9o3eO65pe",
        "outputId": "8fe8438b-2397-47d6-ec51-89acb5375dc8"
      },
      "execution_count": 78,
      "outputs": [
        {
          "output_type": "execute_result",
          "data": {
            "text/plain": [
              "(tensor(180.), tensor(0.))"
            ]
          },
          "metadata": {},
          "execution_count": 78
        }
      ]
    },
    {
      "cell_type": "code",
      "source": [
        "torch.mean(tensor)  , tensor.mean()"
      ],
      "metadata": {
        "colab": {
          "base_uri": "https://localhost:8080/"
        },
        "id": "63JRVO-Y7GmL",
        "outputId": "4e9cb1d9-9fce-4448-f4a1-59985fc57538"
      },
      "execution_count": 79,
      "outputs": [
        {
          "output_type": "execute_result",
          "data": {
            "text/plain": [
              "(tensor(90.), tensor(90.))"
            ]
          },
          "metadata": {},
          "execution_count": 79
        }
      ]
    },
    {
      "cell_type": "code",
      "source": [
        "torch.median(tensor)  , tensor.median()"
      ],
      "metadata": {
        "colab": {
          "base_uri": "https://localhost:8080/"
        },
        "id": "94FsqEoL7c9n",
        "outputId": "b2b44546-cbb4-49cf-e48b-5191e688e8ba"
      },
      "execution_count": 80,
      "outputs": [
        {
          "output_type": "execute_result",
          "data": {
            "text/plain": [
              "(tensor(80.), tensor(80.))"
            ]
          },
          "metadata": {},
          "execution_count": 80
        }
      ]
    },
    {
      "cell_type": "code",
      "source": [
        "torch.std(tensor) , tensor.std()"
      ],
      "metadata": {
        "colab": {
          "base_uri": "https://localhost:8080/"
        },
        "id": "LgoMkAir7uN0",
        "outputId": "76807824-9242-41a9-ddab-bcab314f1bd7"
      },
      "execution_count": 81,
      "outputs": [
        {
          "output_type": "execute_result",
          "data": {
            "text/plain": [
              "(tensor(60.5530), tensor(60.5530))"
            ]
          },
          "metadata": {},
          "execution_count": 81
        }
      ]
    },
    {
      "cell_type": "code",
      "source": [
        "#finding the position\n",
        "tensor2[0]"
      ],
      "metadata": {
        "colab": {
          "base_uri": "https://localhost:8080/"
        },
        "id": "gp45jLcR9Ifw",
        "outputId": "7cd31d44-d74e-4637-b2de-b6fd2720567d"
      },
      "execution_count": 82,
      "outputs": [
        {
          "output_type": "execute_result",
          "data": {
            "text/plain": [
              "tensor([1, 2])"
            ]
          },
          "metadata": {},
          "execution_count": 82
        }
      ]
    },
    {
      "cell_type": "code",
      "source": [
        "tensor = torch.tensor([[1, 3, 5],\n",
        "                       [2, 8, 4]])\n",
        "\n",
        "# Find the index of the maximum value along a specific axis (e.g., axis=1 for rows)\n",
        "max_indices = torch.argmax(tensor, dim=1)\n",
        "\n",
        "# Feel free to change  ( dim ) to see how the result will change\n",
        "\n",
        "print(max_indices)"
      ],
      "metadata": {
        "colab": {
          "base_uri": "https://localhost:8080/"
        },
        "id": "vL0o0xwG8syL",
        "outputId": "89463355-3dbb-4df0-dcd2-b0790f9e4da2"
      },
      "execution_count": 83,
      "outputs": [
        {
          "output_type": "stream",
          "name": "stdout",
          "text": [
            "tensor([2, 1])\n"
          ]
        }
      ]
    },
    {
      "cell_type": "markdown",
      "source": [
        "**reshaping , stacking , squeezing and unsqueezing tensor**\n"
      ],
      "metadata": {
        "id": "H0_XbOobx5zr"
      }
    },
    {
      "cell_type": "code",
      "source": [
        "x = torch.arange(1. , 10.)\n",
        "x , x.shape"
      ],
      "metadata": {
        "id": "CZe3-ZzY83Dn",
        "colab": {
          "base_uri": "https://localhost:8080/"
        },
        "outputId": "a6fe7772-d541-4bbc-cfa6-cd81adc535d0"
      },
      "execution_count": 84,
      "outputs": [
        {
          "output_type": "execute_result",
          "data": {
            "text/plain": [
              "(tensor([1., 2., 3., 4., 5., 6., 7., 8., 9.]), torch.Size([9]))"
            ]
          },
          "metadata": {},
          "execution_count": 84
        }
      ]
    },
    {
      "cell_type": "code",
      "source": [
        "x_reshaped = x.reshape(3 , 3)\n",
        "x_reshaped , x_reshaped.shape"
      ],
      "metadata": {
        "colab": {
          "base_uri": "https://localhost:8080/"
        },
        "id": "4b2hSqWiy-r-",
        "outputId": "967fabb3-96cf-4a18-e309-646d06573ac4"
      },
      "execution_count": 85,
      "outputs": [
        {
          "output_type": "execute_result",
          "data": {
            "text/plain": [
              "(tensor([[1., 2., 3.],\n",
              "         [4., 5., 6.],\n",
              "         [7., 8., 9.]]),\n",
              " torch.Size([3, 3]))"
            ]
          },
          "metadata": {},
          "execution_count": 85
        }
      ]
    },
    {
      "cell_type": "code",
      "source": [
        "y = torch.arange(1 , 25)\n",
        "y , y.shape"
      ],
      "metadata": {
        "colab": {
          "base_uri": "https://localhost:8080/"
        },
        "id": "softRYz_zYFZ",
        "outputId": "7945b362-0250-4db1-ee31-058038fac779"
      },
      "execution_count": 86,
      "outputs": [
        {
          "output_type": "execute_result",
          "data": {
            "text/plain": [
              "(tensor([ 1,  2,  3,  4,  5,  6,  7,  8,  9, 10, 11, 12, 13, 14, 15, 16, 17, 18,\n",
              "         19, 20, 21, 22, 23, 24]),\n",
              " torch.Size([24]))"
            ]
          },
          "metadata": {},
          "execution_count": 86
        }
      ]
    },
    {
      "cell_type": "code",
      "source": [
        "y_reshaped = y.reshape(2 ,3 , 4)\n",
        "y_reshaped , y_reshaped.shape"
      ],
      "metadata": {
        "colab": {
          "base_uri": "https://localhost:8080/"
        },
        "id": "yMoghWsTzp7w",
        "outputId": "17cd2723-eed9-41a3-e70a-7dfa8d718287"
      },
      "execution_count": 87,
      "outputs": [
        {
          "output_type": "execute_result",
          "data": {
            "text/plain": [
              "(tensor([[[ 1,  2,  3,  4],\n",
              "          [ 5,  6,  7,  8],\n",
              "          [ 9, 10, 11, 12]],\n",
              " \n",
              "         [[13, 14, 15, 16],\n",
              "          [17, 18, 19, 20],\n",
              "          [21, 22, 23, 24]]]),\n",
              " torch.Size([2, 3, 4]))"
            ]
          },
          "metadata": {},
          "execution_count": 87
        }
      ]
    },
    {
      "cell_type": "code",
      "source": [
        "#view\n",
        "\n",
        "z = x.view(3 ,3 )\n",
        "z , z.shape"
      ],
      "metadata": {
        "colab": {
          "base_uri": "https://localhost:8080/"
        },
        "id": "7dNI-dMm0VdB",
        "outputId": "b5d92b0e-66f3-4452-8896-bba720186d69"
      },
      "execution_count": 88,
      "outputs": [
        {
          "output_type": "execute_result",
          "data": {
            "text/plain": [
              "(tensor([[1., 2., 3.],\n",
              "         [4., 5., 6.],\n",
              "         [7., 8., 9.]]),\n",
              " torch.Size([3, 3]))"
            ]
          },
          "metadata": {},
          "execution_count": 88
        }
      ]
    },
    {
      "cell_type": "markdown",
      "source": [
        "difference between view and reshape :"
      ],
      "metadata": {
        "id": "I1P6x61LgPzO"
      }
    },
    {
      "cell_type": "code",
      "source": [
        "#changing z changes  x (because a view of a tensor share the same memory as the  original)\n",
        "z[0 , 0] = 404\n",
        "z , x"
      ],
      "metadata": {
        "colab": {
          "base_uri": "https://localhost:8080/"
        },
        "id": "GEXCmoZ10W65",
        "outputId": "f33672f8-8d74-4510-9de3-1851f95cf333"
      },
      "execution_count": 89,
      "outputs": [
        {
          "output_type": "execute_result",
          "data": {
            "text/plain": [
              "(tensor([[404.,   2.,   3.],\n",
              "         [  4.,   5.,   6.],\n",
              "         [  7.,   8.,   9.]]),\n",
              " tensor([404.,   2.,   3.,   4.,   5.,   6.,   7.,   8.,   9.]))"
            ]
          },
          "metadata": {},
          "execution_count": 89
        }
      ]
    },
    {
      "cell_type": "code",
      "source": [
        "# now we redefine the x\n",
        "x = torch.arange(1. , 13.)\n",
        "x , x.shape"
      ],
      "metadata": {
        "colab": {
          "base_uri": "https://localhost:8080/"
        },
        "id": "yKsFaWPZ09qe",
        "outputId": "1a8abec0-99b7-4c7b-e9f8-22fee462cac3"
      },
      "execution_count": 90,
      "outputs": [
        {
          "output_type": "execute_result",
          "data": {
            "text/plain": [
              "(tensor([ 1.,  2.,  3.,  4.,  5.,  6.,  7.,  8.,  9., 10., 11., 12.]),\n",
              " torch.Size([12]))"
            ]
          },
          "metadata": {},
          "execution_count": 90
        }
      ]
    },
    {
      "cell_type": "code",
      "source": [
        "Q = x.reshape(3 ,4 )\n",
        "Q"
      ],
      "metadata": {
        "colab": {
          "base_uri": "https://localhost:8080/"
        },
        "id": "bJknQ3tS27Fj",
        "outputId": "e9a4d9af-b47d-406c-ae98-19ba92fdf940"
      },
      "execution_count": 91,
      "outputs": [
        {
          "output_type": "execute_result",
          "data": {
            "text/plain": [
              "tensor([[ 1.,  2.,  3.,  4.],\n",
              "        [ 5.,  6.,  7.,  8.],\n",
              "        [ 9., 10., 11., 12.]])"
            ]
          },
          "metadata": {},
          "execution_count": 91
        }
      ]
    },
    {
      "cell_type": "code",
      "source": [
        "t = torch.arange(11 , 23)\n",
        "t = t.reshape(3 , 4)"
      ],
      "metadata": {
        "id": "5un7wqZgTk24"
      },
      "execution_count": 92,
      "outputs": []
    },
    {
      "cell_type": "code",
      "source": [
        "#stacking a tensors on top of each other\n",
        "x_stacked = torch.stack([Q ,t ,Q ] , dim=0)\n",
        "x_stacked , x_stacked.shape\n"
      ],
      "metadata": {
        "colab": {
          "base_uri": "https://localhost:8080/"
        },
        "id": "1lmT2dGn11kV",
        "outputId": "049ecb11-e0e6-491a-a295-694c7899bdbd"
      },
      "execution_count": 93,
      "outputs": [
        {
          "output_type": "execute_result",
          "data": {
            "text/plain": [
              "(tensor([[[ 1.,  2.,  3.,  4.],\n",
              "          [ 5.,  6.,  7.,  8.],\n",
              "          [ 9., 10., 11., 12.]],\n",
              " \n",
              "         [[11., 12., 13., 14.],\n",
              "          [15., 16., 17., 18.],\n",
              "          [19., 20., 21., 22.]],\n",
              " \n",
              "         [[ 1.,  2.,  3.,  4.],\n",
              "          [ 5.,  6.,  7.,  8.],\n",
              "          [ 9., 10., 11., 12.]]]),\n",
              " torch.Size([3, 3, 4]))"
            ]
          },
          "metadata": {},
          "execution_count": 93
        }
      ]
    },
    {
      "cell_type": "code",
      "source": [
        "x_stacked = torch.stack([Q ,t , Q ] , dim=1)\n",
        "x_stacked , x_stacked.shape"
      ],
      "metadata": {
        "colab": {
          "base_uri": "https://localhost:8080/"
        },
        "id": "mt_rGR_r2uUG",
        "outputId": "0b4ffcd7-14a9-44e1-c162-b68fea2638ac"
      },
      "execution_count": 94,
      "outputs": [
        {
          "output_type": "execute_result",
          "data": {
            "text/plain": [
              "(tensor([[[ 1.,  2.,  3.,  4.],\n",
              "          [11., 12., 13., 14.],\n",
              "          [ 1.,  2.,  3.,  4.]],\n",
              " \n",
              "         [[ 5.,  6.,  7.,  8.],\n",
              "          [15., 16., 17., 18.],\n",
              "          [ 5.,  6.,  7.,  8.]],\n",
              " \n",
              "         [[ 9., 10., 11., 12.],\n",
              "          [19., 20., 21., 22.],\n",
              "          [ 9., 10., 11., 12.]]]),\n",
              " torch.Size([3, 3, 4]))"
            ]
          },
          "metadata": {},
          "execution_count": 94
        }
      ]
    },
    {
      "cell_type": "code",
      "source": [
        "x_stacked = torch.stack([Q ,t ,Q ] , dim=2)\n",
        "x_stacked , x_stacked.shape"
      ],
      "metadata": {
        "colab": {
          "base_uri": "https://localhost:8080/"
        },
        "outputId": "7fa951bc-cf91-46e8-f4a4-8a5e2808b5c0",
        "id": "g_PcXe-I3lDz"
      },
      "execution_count": 95,
      "outputs": [
        {
          "output_type": "execute_result",
          "data": {
            "text/plain": [
              "(tensor([[[ 1., 11.,  1.],\n",
              "          [ 2., 12.,  2.],\n",
              "          [ 3., 13.,  3.],\n",
              "          [ 4., 14.,  4.]],\n",
              " \n",
              "         [[ 5., 15.,  5.],\n",
              "          [ 6., 16.,  6.],\n",
              "          [ 7., 17.,  7.],\n",
              "          [ 8., 18.,  8.]],\n",
              " \n",
              "         [[ 9., 19.,  9.],\n",
              "          [10., 20., 10.],\n",
              "          [11., 21., 11.],\n",
              "          [12., 22., 12.]]]),\n",
              " torch.Size([3, 4, 3]))"
            ]
          },
          "metadata": {},
          "execution_count": 95
        }
      ]
    },
    {
      "cell_type": "code",
      "source": [
        "#squeezing  a tensor to get rid of single dim\n",
        "x = torch.zeros(2, 1, 2, 1, 2)\n",
        "print(f\" \\n  the size of the tensor is : {x.size()}\")\n",
        "y = torch.squeeze(x)\n",
        "print(f\" \\n ather the squeez(x) we 'll remove all single dimentions :{y.shape} \")\n",
        "y = torch.squeeze(x, 0)\n",
        "print(f\" \\n  if we specify the first dimention because the its 2 it will stay the same :{y.shape} \")\n",
        "y = torch.squeeze(x, 1)\n",
        "print(f\" \\n if we specify the third dim to be squeezed just the third will squeezed :{y.shape} \")\n",
        "y = torch.squeeze(x, ( 2 , 3))\n",
        "print(f\" \\n  and we can set a list of dims to get sqeezed:{y.shape} \")\n",
        "\n"
      ],
      "metadata": {
        "colab": {
          "base_uri": "https://localhost:8080/"
        },
        "id": "a-pv7xLLUugS",
        "outputId": "896e12a8-6e75-4216-c93b-4f6ab10c8b89"
      },
      "execution_count": 96,
      "outputs": [
        {
          "output_type": "stream",
          "name": "stdout",
          "text": [
            " \n",
            "  the size of the tensor is : torch.Size([2, 1, 2, 1, 2])\n",
            " \n",
            " ather the squeez(x) we 'll remove all single dimentions :torch.Size([2, 2, 2]) \n",
            " \n",
            "  if we specify the first dimention because the its 2 it will stay the same :torch.Size([2, 1, 2, 1, 2]) \n",
            " \n",
            " if we specify the third dim to be squeezed just the third will squeezed :torch.Size([2, 2, 1, 2]) \n",
            " \n",
            "  and we can set a list of dims to get sqeezed:torch.Size([2, 1, 2, 2]) \n"
          ]
        }
      ]
    },
    {
      "cell_type": "code",
      "source": [
        "# unsqueeze will add a 1 dim\n",
        "x = torch.arange(1 ,9)\n",
        "y = torch.unsqueeze(x , 0)\n",
        "print(x , x.shape)\n",
        "print(y , y.shape)"
      ],
      "metadata": {
        "colab": {
          "base_uri": "https://localhost:8080/"
        },
        "id": "W68QsjHTWnmk",
        "outputId": "667892c2-b011-4b45-b0d8-b504dfa3b097"
      },
      "execution_count": 97,
      "outputs": [
        {
          "output_type": "stream",
          "name": "stdout",
          "text": [
            "tensor([1, 2, 3, 4, 5, 6, 7, 8]) torch.Size([8])\n",
            "tensor([[1, 2, 3, 4, 5, 6, 7, 8]]) torch.Size([1, 8])\n"
          ]
        }
      ]
    },
    {
      "cell_type": "code",
      "source": [
        "# for changing the order of the dimantions without changing the structure we can use permute\n",
        "x = torch.arange(1 , 25).reshape(3 ,4 , 2)\n",
        "y = torch.permute(x , (2 , 0  ,1 ))\n",
        "print(x.shape)\n",
        "print(y.shape)"
      ],
      "metadata": {
        "colab": {
          "base_uri": "https://localhost:8080/"
        },
        "id": "d17fUcTqeXvA",
        "outputId": "b2096389-0f1d-4d4c-affb-143da526e8d9"
      },
      "execution_count": 98,
      "outputs": [
        {
          "output_type": "stream",
          "name": "stdout",
          "text": [
            "torch.Size([3, 4, 2])\n",
            "torch.Size([2, 3, 4])\n"
          ]
        }
      ]
    },
    {
      "cell_type": "code",
      "source": [
        "#keep in mind that the value of the .reshape and .permute will be different\n",
        "\n",
        "t = x.reshape(2 ,3 , 4)\n",
        "print(y.shape)\n",
        "print(t.shape)\n",
        "y ,\"-------\" , t"
      ],
      "metadata": {
        "colab": {
          "base_uri": "https://localhost:8080/"
        },
        "id": "xWU09LkFaj6V",
        "outputId": "82a55c6c-5acf-4287-923e-adf6410c3e26"
      },
      "execution_count": 99,
      "outputs": [
        {
          "output_type": "stream",
          "name": "stdout",
          "text": [
            "torch.Size([2, 3, 4])\n",
            "torch.Size([2, 3, 4])\n"
          ]
        },
        {
          "output_type": "execute_result",
          "data": {
            "text/plain": [
              "(tensor([[[ 1,  3,  5,  7],\n",
              "          [ 9, 11, 13, 15],\n",
              "          [17, 19, 21, 23]],\n",
              " \n",
              "         [[ 2,  4,  6,  8],\n",
              "          [10, 12, 14, 16],\n",
              "          [18, 20, 22, 24]]]),\n",
              " '-------',\n",
              " tensor([[[ 1,  2,  3,  4],\n",
              "          [ 5,  6,  7,  8],\n",
              "          [ 9, 10, 11, 12]],\n",
              " \n",
              "         [[13, 14, 15, 16],\n",
              "          [17, 18, 19, 20],\n",
              "          [21, 22, 23, 24]]]))"
            ]
          },
          "metadata": {},
          "execution_count": 99
        }
      ]
    },
    {
      "cell_type": "markdown",
      "source": [
        "interaction between numpy.array and tensor"
      ],
      "metadata": {
        "id": "8rluimpUmfr7"
      }
    },
    {
      "cell_type": "code",
      "source": [
        "import numpy as np"
      ],
      "metadata": {
        "id": "e3cVlxW_cQa_"
      },
      "execution_count": 100,
      "outputs": []
    },
    {
      "cell_type": "code",
      "source": [
        "array = np.arange(1 , 10  , dtype= np.float32)\n",
        "tensor = torch.from_numpy(array)\n",
        "type(array) , type(tensor)"
      ],
      "metadata": {
        "colab": {
          "base_uri": "https://localhost:8080/"
        },
        "id": "8MFbSXGcmoyA",
        "outputId": "74499513-1968-4886-daed-f3bb3b7f62ff"
      },
      "execution_count": 101,
      "outputs": [
        {
          "output_type": "execute_result",
          "data": {
            "text/plain": [
              "(numpy.ndarray, torch.Tensor)"
            ]
          },
          "metadata": {},
          "execution_count": 101
        }
      ]
    },
    {
      "cell_type": "code",
      "source": [
        "array.dtype , tensor.dtype"
      ],
      "metadata": {
        "colab": {
          "base_uri": "https://localhost:8080/"
        },
        "id": "Zomx5xAAm6SS",
        "outputId": "3b430a6b-1200-4f20-d833-40de2beba61a"
      },
      "execution_count": 102,
      "outputs": [
        {
          "output_type": "execute_result",
          "data": {
            "text/plain": [
              "(dtype('float32'), torch.float32)"
            ]
          },
          "metadata": {},
          "execution_count": 102
        }
      ]
    },
    {
      "cell_type": "code",
      "source": [
        "\n",
        "tensor = torch.tensor([[1, 2, 3],\n",
        "                       [4, 5, 6]])\n",
        "\n",
        "# Convert tensor to NumPy array\n",
        "numpy_array = tensor.numpy()\n",
        "\n",
        "\n",
        "print(tensor)\n",
        "\n",
        "print(numpy_array)\n",
        "type(numpy_array)"
      ],
      "metadata": {
        "colab": {
          "base_uri": "https://localhost:8080/"
        },
        "id": "-hgRkcWonaSp",
        "outputId": "286aecef-4713-41f1-cd7f-2b154b363b9e"
      },
      "execution_count": 103,
      "outputs": [
        {
          "output_type": "stream",
          "name": "stdout",
          "text": [
            "tensor([[1, 2, 3],\n",
            "        [4, 5, 6]])\n",
            "[[1 2 3]\n",
            " [4 5 6]]\n"
          ]
        },
        {
          "output_type": "execute_result",
          "data": {
            "text/plain": [
              "numpy.ndarray"
            ]
          },
          "metadata": {},
          "execution_count": 103
        }
      ]
    },
    {
      "cell_type": "code",
      "source": [
        "numpy_array = np.array([[1, 2, 3],\n",
        "                        [4, 5, 6]])\n",
        "\n",
        "# Convert NumPy array to PyTorch tensor\n",
        "tensor = torch.from_numpy(numpy_array)\n",
        "\n",
        "\n",
        "print(numpy_array)\n",
        "\n",
        "print(tensor)\n"
      ],
      "metadata": {
        "colab": {
          "base_uri": "https://localhost:8080/"
        },
        "id": "Te4Zmy7jiMOm",
        "outputId": "4e3497de-1d7d-4575-a5b8-d20c78df1d81"
      },
      "execution_count": 104,
      "outputs": [
        {
          "output_type": "stream",
          "name": "stdout",
          "text": [
            "[[1 2 3]\n",
            " [4 5 6]]\n",
            "tensor([[1, 2, 3],\n",
            "        [4, 5, 6]])\n"
          ]
        }
      ]
    }
  ]
}