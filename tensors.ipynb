{
  "nbformat": 4,
  "nbformat_minor": 0,
  "metadata": {
    "colab": {
      "provenance": []
    },
    "kernelspec": {
      "name": "python3",
      "display_name": "Python 3"
    },
    "language_info": {
      "name": "python"
    }
  },
  "cells": [
    {
      "cell_type": "markdown",
      "source": [
        "# Tensors in pytorch\n",
        "**this is a cheatsheet to use  tensor in pytorch**\n",
        "\n",
        "\n",
        "\n",
        "*to learn pytorch in python It is  crucial to first learn about **tensors** and  see how we can work with them .*\n",
        "\n",
        "\n",
        "***What is a Tensor?***\n",
        "\n",
        "Tensors are simply mathematical objects that can be used to describe physical properties, just like scalars and vectors. In fact tensors are merely a generalisation of scalars and vectors; a scalar is a zero rank tensor, and a vector is a first rank tensor.\n",
        "\n"
      ],
      "metadata": {
        "id": "v1DEngwRYhw2"
      }
    },
    {
      "cell_type": "code",
      "execution_count": 1,
      "metadata": {
        "colab": {
          "base_uri": "https://localhost:8080/",
          "height": 36
        },
        "id": "4ahXxAe9MZ8G",
        "outputId": "963a2971-45b5-49e2-fb90-004a33dcb3f6"
      },
      "outputs": [
        {
          "output_type": "execute_result",
          "data": {
            "text/plain": [
              "'2.1.0+cu121'"
            ],
            "application/vnd.google.colaboratory.intrinsic+json": {
              "type": "string"
            }
          },
          "metadata": {},
          "execution_count": 1
        }
      ],
      "source": [
        "# first lets import the pytorch lib\n",
        "\n",
        "import torch\n",
        "torch.__version__\n"
      ]
    },
    {
      "cell_type": "markdown",
      "source": [],
      "metadata": {
        "id": "s-3sBS4WaBXd"
      }
    },
    {
      "cell_type": "code",
      "source": [
        "\n",
        "scalar = torch.tensor(7)\n",
        "scalar"
      ],
      "metadata": {
        "colab": {
          "base_uri": "https://localhost:8080/"
        },
        "id": "yKFk5-efOr3-",
        "outputId": "d6d7c828-cdef-4c18-da7b-ca995b34e3a6"
      },
      "execution_count": 6,
      "outputs": [
        {
          "output_type": "execute_result",
          "data": {
            "text/plain": [
              "tensor(7)"
            ]
          },
          "metadata": {},
          "execution_count": 6
        }
      ]
    },
    {
      "cell_type": "code",
      "source": [
        "vector = torch.tensor([2 , 3 , 4])\n",
        "vector"
      ],
      "metadata": {
        "colab": {
          "base_uri": "https://localhost:8080/"
        },
        "id": "WRhNUSZGO1Zt",
        "outputId": "d2113e80-3946-4055-a1c7-2883fcef0ffd"
      },
      "execution_count": 3,
      "outputs": [
        {
          "output_type": "execute_result",
          "data": {
            "text/plain": [
              "tensor([2, 3, 4])"
            ]
          },
          "metadata": {},
          "execution_count": 3
        }
      ]
    },
    {
      "cell_type": "code",
      "source": [
        "# with the attribute ndim we can see how many dimension our vector has\n",
        "vector.ndim"
      ],
      "metadata": {
        "colab": {
          "base_uri": "https://localhost:8080/"
        },
        "id": "lf4ASVYqPamD",
        "outputId": "46ab7ee6-864d-4a6f-d7de-0a46e6c8da6f"
      },
      "execution_count": 9,
      "outputs": [
        {
          "output_type": "execute_result",
          "data": {
            "text/plain": [
              "1"
            ]
          },
          "metadata": {},
          "execution_count": 9
        }
      ]
    },
    {
      "cell_type": "code",
      "source": [
        "# now lets see the size or shape of our vector\n",
        "vector.shape"
      ],
      "metadata": {
        "colab": {
          "base_uri": "https://localhost:8080/"
        },
        "id": "kQzhGdHvO9av",
        "outputId": "f0e21877-121e-4a67-a240-e010afbbea4c"
      },
      "execution_count": 14,
      "outputs": [
        {
          "output_type": "execute_result",
          "data": {
            "text/plain": [
              "torch.Size([3])"
            ]
          },
          "metadata": {},
          "execution_count": 14
        }
      ]
    },
    {
      "cell_type": "code",
      "source": [
        "MATRIX = torch.tensor([[1 , 2 , 3  ] ,\n",
        "                       [4 , 5 , 6]])\n",
        "MATRIX.shape"
      ],
      "metadata": {
        "colab": {
          "base_uri": "https://localhost:8080/"
        },
        "id": "wk4xBNmGPEB1",
        "outputId": "b3906eb8-a973-4ec1-b2f8-8ba54fec8c6a"
      },
      "execution_count": null,
      "outputs": [
        {
          "output_type": "execute_result",
          "data": {
            "text/plain": [
              "torch.Size([2, 3])"
            ]
          },
          "metadata": {},
          "execution_count": 6
        }
      ]
    },
    {
      "cell_type": "code",
      "source": [
        "TENSOR = torch.tensor([\n",
        "                        [[1 , 2 , 3  , 4],\n",
        "                         [5 , 6 , 7 , 8] ,\n",
        "                         [9 , 10 ,11 ,12]] ,\n",
        "\n",
        "                        [[-1 , -2 , -3  , -4],\n",
        "                         [-5 , -6 , -7 , -8] ,\n",
        "                         [-9 , -10 ,-11 ,-12]]\n",
        "                        ])\n",
        "\n",
        "TENSOR.shape"
      ],
      "metadata": {
        "colab": {
          "base_uri": "https://localhost:8080/"
        },
        "id": "8cMfq8-zP2yK",
        "outputId": "c2c40d91-ada9-49ce-fa70-2ee8e300ac7e"
      },
      "execution_count": null,
      "outputs": [
        {
          "output_type": "execute_result",
          "data": {
            "text/plain": [
              "torch.Size([2, 3, 4])"
            ]
          },
          "metadata": {},
          "execution_count": 7
        }
      ]
    },
    {
      "cell_type": "code",
      "source": [
        "# Creat a random tenor\n",
        "randomTensor = torch.rand(  2  ,3 , 4  )\n",
        "randomTensor"
      ],
      "metadata": {
        "colab": {
          "base_uri": "https://localhost:8080/"
        },
        "id": "Fy7Lg-Q0R0By",
        "outputId": "07a7f336-f62d-45c2-a598-be3add8d7d5f"
      },
      "execution_count": null,
      "outputs": [
        {
          "output_type": "execute_result",
          "data": {
            "text/plain": [
              "tensor([[[0.3089, 0.7720, 0.9058, 0.2871],\n",
              "         [0.8675, 0.2136, 0.8162, 0.7317],\n",
              "         [0.3922, 0.2604, 0.8451, 0.1258]],\n",
              "\n",
              "        [[0.2129, 0.5105, 0.8099, 0.9043],\n",
              "         [0.6437, 0.0788, 0.3157, 0.7984],\n",
              "         [0.7838, 0.7649, 0.0571, 0.7913]]])"
            ]
          },
          "metadata": {},
          "execution_count": 8
        }
      ]
    },
    {
      "cell_type": "code",
      "source": [
        "zeros = torch.zeros(2 ,3 , 4)\n",
        "zeros"
      ],
      "metadata": {
        "colab": {
          "base_uri": "https://localhost:8080/"
        },
        "id": "7X5Fc9NtUqHN",
        "outputId": "8ed89aa2-f1f3-48f7-e3ed-e37db9331056"
      },
      "execution_count": null,
      "outputs": [
        {
          "output_type": "execute_result",
          "data": {
            "text/plain": [
              "tensor([[[0., 0., 0., 0.],\n",
              "         [0., 0., 0., 0.],\n",
              "         [0., 0., 0., 0.]],\n",
              "\n",
              "        [[0., 0., 0., 0.],\n",
              "         [0., 0., 0., 0.],\n",
              "         [0., 0., 0., 0.]]])"
            ]
          },
          "metadata": {},
          "execution_count": 9
        }
      ]
    },
    {
      "cell_type": "markdown",
      "source": [
        "with **zeros_like** we can buil a zero tensor with the exact shape of another tensor that we have"
      ],
      "metadata": {
        "id": "PoK9jDygbbV_"
      }
    },
    {
      "cell_type": "code",
      "source": [
        "torch.zeros_like(randomTensor)"
      ],
      "metadata": {
        "colab": {
          "base_uri": "https://localhost:8080/",
          "height": 175
        },
        "id": "7juriZZI2pSH",
        "outputId": "e30b2e41-bf1b-4034-d5e8-8c020514b451"
      },
      "execution_count": 16,
      "outputs": [
        {
          "output_type": "error",
          "ename": "NameError",
          "evalue": "name 'randomTensor' is not defined",
          "traceback": [
            "\u001b[0;31m---------------------------------------------------------------------------\u001b[0m",
            "\u001b[0;31mNameError\u001b[0m                                 Traceback (most recent call last)",
            "\u001b[0;32m<ipython-input-16-7505a131a460>\u001b[0m in \u001b[0;36m<cell line: 1>\u001b[0;34m()\u001b[0m\n\u001b[0;32m----> 1\u001b[0;31m \u001b[0mtorch\u001b[0m\u001b[0;34m.\u001b[0m\u001b[0mzeros_like\u001b[0m\u001b[0;34m(\u001b[0m\u001b[0mrandomTensor\u001b[0m\u001b[0;34m)\u001b[0m\u001b[0;34m\u001b[0m\u001b[0;34m\u001b[0m\u001b[0m\n\u001b[0m",
            "\u001b[0;31mNameError\u001b[0m: name 'randomTensor' is not defined"
          ]
        }
      ]
    },
    {
      "cell_type": "code",
      "source": [
        "oneToTen = torch.arange(1 , 11)\n",
        "oneToTen"
      ],
      "metadata": {
        "colab": {
          "base_uri": "https://localhost:8080/"
        },
        "id": "w1FBBA2q16Bh",
        "outputId": "0d7987ef-635f-495d-835d-f0a5c61eacd7"
      },
      "execution_count": null,
      "outputs": [
        {
          "output_type": "execute_result",
          "data": {
            "text/plain": [
              "tensor([ 1,  2,  3,  4,  5,  6,  7,  8,  9, 10])"
            ]
          },
          "metadata": {},
          "execution_count": 12
        }
      ]
    },
    {
      "cell_type": "code",
      "source": [
        "tenZeros = torch.zeros_like(oneToTen)\n",
        "tenZeros"
      ],
      "metadata": {
        "colab": {
          "base_uri": "https://localhost:8080/"
        },
        "id": "6Ixasr432HI4",
        "outputId": "77aa9700-7cb2-464a-ec77-27949f683129"
      },
      "execution_count": null,
      "outputs": [
        {
          "output_type": "execute_result",
          "data": {
            "text/plain": [
              "tensor([0, 0, 0, 0, 0, 0, 0, 0, 0, 0])"
            ]
          },
          "metadata": {},
          "execution_count": 13
        }
      ]
    },
    {
      "cell_type": "markdown",
      "source": [
        "tensor Datatype"
      ],
      "metadata": {
        "id": "39zeWuK63CtQ"
      }
    },
    {
      "cell_type": "code",
      "source": [
        "randomTensor.dtype"
      ],
      "metadata": {
        "colab": {
          "base_uri": "https://localhost:8080/"
        },
        "id": "MhxpYr3VWqiE",
        "outputId": "b3d08660-5a4e-4109-f390-9774243e46ee"
      },
      "execution_count": null,
      "outputs": [
        {
          "output_type": "execute_result",
          "data": {
            "text/plain": [
              "torch.float32"
            ]
          },
          "metadata": {},
          "execution_count": 14
        }
      ]
    },
    {
      "cell_type": "code",
      "source": [
        "float_16_tensor = torch.tensor([1 , 2 ,3 , 4 ] , dtype=torch.float16)\n",
        "float_16_tensor.dtype"
      ],
      "metadata": {
        "colab": {
          "base_uri": "https://localhost:8080/"
        },
        "id": "WUifc2LU2ivn",
        "outputId": "28a5dba3-87ac-4a17-94b0-55c3f0b86cd5"
      },
      "execution_count": null,
      "outputs": [
        {
          "output_type": "execute_result",
          "data": {
            "text/plain": [
              "torch.float16"
            ]
          },
          "metadata": {},
          "execution_count": 15
        }
      ]
    },
    {
      "cell_type": "code",
      "source": [
        "float_32_tensor = float_16_tensor.type(torch.float32)\n",
        "float_32_tensor.dtype"
      ],
      "metadata": {
        "colab": {
          "base_uri": "https://localhost:8080/"
        },
        "id": "E3OfmoaL3nMn",
        "outputId": "42cece95-9c81-40b3-8ebc-d58acfafe21d"
      },
      "execution_count": null,
      "outputs": [
        {
          "output_type": "execute_result",
          "data": {
            "text/plain": [
              "torch.float32"
            ]
          },
          "metadata": {},
          "execution_count": 16
        }
      ]
    },
    {
      "cell_type": "markdown",
      "source": [
        "now lets learn more about tensor operations"
      ],
      "metadata": {
        "id": "w-Z5M9ohw3mU"
      }
    },
    {
      "cell_type": "code",
      "source": [
        "tensor = torch.tensor([1 , 2 , 3])\n",
        "print(tensor + 10)\n",
        "print(tensor * 10)\n",
        "print(tensor / 10)\n",
        "print(tensor - 10)"
      ],
      "metadata": {
        "id": "N-NqsnC15qrY",
        "colab": {
          "base_uri": "https://localhost:8080/"
        },
        "outputId": "747374f1-8789-4e08-bd75-52d6784c5242"
      },
      "execution_count": null,
      "outputs": [
        {
          "output_type": "stream",
          "name": "stdout",
          "text": [
            "tensor([11, 12, 13])\n",
            "tensor([10, 20, 30])\n",
            "tensor([0.1000, 0.2000, 0.3000])\n",
            "tensor([-9, -8, -7])\n"
          ]
        }
      ]
    },
    {
      "cell_type": "code",
      "source": [
        "# also we can use another method to calculate\n",
        "print(torch.add(tensor , 10))\n",
        "print(torch.mul(tensor , 10))\n",
        "print(torch.divide(tensor , 10))\n",
        "print(torch.sub(tensor , 10))"
      ],
      "metadata": {
        "colab": {
          "base_uri": "https://localhost:8080/"
        },
        "id": "Rh9w1d5zxPLg",
        "outputId": "d321f123-fd97-4b52-95a7-766e520d452a"
      },
      "execution_count": null,
      "outputs": [
        {
          "output_type": "stream",
          "name": "stdout",
          "text": [
            "tensor([11, 12, 13])\n",
            "tensor([10, 20, 30])\n",
            "tensor([0.1000, 0.2000, 0.3000])\n",
            "tensor([-9, -8, -7])\n"
          ]
        }
      ]
    },
    {
      "cell_type": "code",
      "source": [
        "tensor2 = torch.tensor([[1 , 2] ,\n",
        "                        [3 , 4]])"
      ],
      "metadata": {
        "id": "srjBVFPBzy6N"
      },
      "execution_count": null,
      "outputs": []
    },
    {
      "cell_type": "markdown",
      "source": [
        "In pytorch you can also utilize different types of multiplication for matrices|"
      ],
      "metadata": {
        "id": "sPTuJoGDcWw5"
      }
    },
    {
      "cell_type": "code",
      "source": [
        "# normal muliplication\n",
        "print(tensor.mul(tensor))\n",
        "# cross fuction\n",
        "print(tensor2.matmul(tensor2))\n",
        "#dot function\n",
        "print(tensor.dot(tensor))\n"
      ],
      "metadata": {
        "colab": {
          "base_uri": "https://localhost:8080/",
          "height": 245
        },
        "id": "nQ1BVYF9xj4z",
        "outputId": "18b6c65f-f249-4a6e-f912-bf5a2b32fa73"
      },
      "execution_count": 17,
      "outputs": [
        {
          "output_type": "error",
          "ename": "NameError",
          "evalue": "name 'tensor' is not defined",
          "traceback": [
            "\u001b[0;31m---------------------------------------------------------------------------\u001b[0m",
            "\u001b[0;31mNameError\u001b[0m                                 Traceback (most recent call last)",
            "\u001b[0;32m<ipython-input-17-4a1f2ded9113>\u001b[0m in \u001b[0;36m<cell line: 2>\u001b[0;34m()\u001b[0m\n\u001b[1;32m      1\u001b[0m \u001b[0;31m# normal muliplication\u001b[0m\u001b[0;34m\u001b[0m\u001b[0;34m\u001b[0m\u001b[0m\n\u001b[0;32m----> 2\u001b[0;31m \u001b[0mprint\u001b[0m\u001b[0;34m(\u001b[0m\u001b[0mtensor\u001b[0m\u001b[0;34m.\u001b[0m\u001b[0mmul\u001b[0m\u001b[0;34m(\u001b[0m\u001b[0mtensor\u001b[0m\u001b[0;34m)\u001b[0m\u001b[0;34m)\u001b[0m\u001b[0;34m\u001b[0m\u001b[0;34m\u001b[0m\u001b[0m\n\u001b[0m\u001b[1;32m      3\u001b[0m \u001b[0;31m# cross fuction\u001b[0m\u001b[0;34m\u001b[0m\u001b[0;34m\u001b[0m\u001b[0m\n\u001b[1;32m      4\u001b[0m \u001b[0mprint\u001b[0m\u001b[0;34m(\u001b[0m\u001b[0mtensor2\u001b[0m\u001b[0;34m.\u001b[0m\u001b[0mmatmul\u001b[0m\u001b[0;34m(\u001b[0m\u001b[0mtensor2\u001b[0m\u001b[0;34m)\u001b[0m\u001b[0;34m)\u001b[0m\u001b[0;34m\u001b[0m\u001b[0;34m\u001b[0m\u001b[0m\n\u001b[1;32m      5\u001b[0m \u001b[0;31m#dot function\u001b[0m\u001b[0;34m\u001b[0m\u001b[0;34m\u001b[0m\u001b[0m\n",
            "\u001b[0;31mNameError\u001b[0m: name 'tensor' is not defined"
          ]
        }
      ]
    },
    {
      "cell_type": "code",
      "source": [
        "#adding the diagonal valus (known as trace in math)\n",
        "torch.trace(tensor2)"
      ],
      "metadata": {
        "colab": {
          "base_uri": "https://localhost:8080/"
        },
        "id": "IkbVeRWzyRf-",
        "outputId": "6fb23200-ab5d-4f8a-d3f2-936622a4323d"
      },
      "execution_count": null,
      "outputs": [
        {
          "output_type": "execute_result",
          "data": {
            "text/plain": [
              "tensor(5)"
            ]
          },
          "metadata": {},
          "execution_count": 21
        }
      ]
    },
    {
      "cell_type": "code",
      "source": [
        "#teranspose a matrix(changing rows to columns & columns to rows)\n",
        "torch.t(tensor2)"
      ],
      "metadata": {
        "colab": {
          "base_uri": "https://localhost:8080/"
        },
        "id": "Tq8UdTCy07-3",
        "outputId": "9650a6f8-cdc7-40a3-a2a6-72325c530cc6"
      },
      "execution_count": null,
      "outputs": [
        {
          "output_type": "execute_result",
          "data": {
            "text/plain": [
              "tensor([[1, 3],\n",
              "        [2, 4]])"
            ]
          },
          "metadata": {},
          "execution_count": 22
        }
      ]
    },
    {
      "cell_type": "code",
      "source": [
        "%time\n",
        "matrix = torch.rand(size=(10 , 10) , dtype=torch.float32)\n",
        "\n",
        "# Calculate the determinant using torch.det()\n",
        "torch.det(matrix)\n"
      ],
      "metadata": {
        "colab": {
          "base_uri": "https://localhost:8080/"
        },
        "id": "-YPRLnoJ1MTd",
        "outputId": "951a6562-1671-4c60-c88f-706be06081e1"
      },
      "execution_count": null,
      "outputs": [
        {
          "output_type": "stream",
          "name": "stdout",
          "text": [
            "CPU times: user 3 µs, sys: 0 ns, total: 3 µs\n",
            "Wall time: 8.11 µs\n"
          ]
        },
        {
          "output_type": "execute_result",
          "data": {
            "text/plain": [
              "tensor(-0.0114)"
            ]
          },
          "metadata": {},
          "execution_count": 23
        }
      ]
    },
    {
      "cell_type": "code",
      "source": [
        "tensor = torch.arange(0 , 200 , 20 , dtype=torch.float32)\n",
        "tensor"
      ],
      "metadata": {
        "colab": {
          "base_uri": "https://localhost:8080/"
        },
        "id": "D69_u1Tm3URw",
        "outputId": "106ac185-81dc-48ce-a35d-1a9e046d224f"
      },
      "execution_count": null,
      "outputs": [
        {
          "output_type": "execute_result",
          "data": {
            "text/plain": [
              "tensor([  0.,  20.,  40.,  60.,  80., 100., 120., 140., 160., 180.])"
            ]
          },
          "metadata": {},
          "execution_count": 24
        }
      ]
    },
    {
      "cell_type": "markdown",
      "source": [
        "**maximum  , minimum ,  average  , median and standard deviation in pytorch**"
      ],
      "metadata": {
        "id": "Q3OxxbTpeGQW"
      }
    },
    {
      "cell_type": "code",
      "source": [
        "torch.max(tensor)  , torch.min(tensor)"
      ],
      "metadata": {
        "colab": {
          "base_uri": "https://localhost:8080/"
        },
        "id": "R5Onij6Y6kdF",
        "outputId": "f6dbb195-6eb7-4c02-f033-0c5b4281cafc"
      },
      "execution_count": null,
      "outputs": [
        {
          "output_type": "execute_result",
          "data": {
            "text/plain": [
              "(tensor(180.), tensor(0.))"
            ]
          },
          "metadata": {},
          "execution_count": 25
        }
      ]
    },
    {
      "cell_type": "code",
      "source": [
        "tensor.max() , tensor.min()"
      ],
      "metadata": {
        "colab": {
          "base_uri": "https://localhost:8080/"
        },
        "id": "3lO9o3eO65pe",
        "outputId": "8e4ef088-99ff-4d08-fe0c-00923a587e0d"
      },
      "execution_count": null,
      "outputs": [
        {
          "output_type": "execute_result",
          "data": {
            "text/plain": [
              "(tensor(180.), tensor(0.))"
            ]
          },
          "metadata": {},
          "execution_count": 26
        }
      ]
    },
    {
      "cell_type": "code",
      "source": [
        "torch.mean(tensor)  , tensor.mean()"
      ],
      "metadata": {
        "colab": {
          "base_uri": "https://localhost:8080/"
        },
        "id": "63JRVO-Y7GmL",
        "outputId": "d942ac8f-97ef-4723-b7dd-6b0d3a58e807"
      },
      "execution_count": null,
      "outputs": [
        {
          "output_type": "execute_result",
          "data": {
            "text/plain": [
              "(tensor(90.), tensor(90.))"
            ]
          },
          "metadata": {},
          "execution_count": 27
        }
      ]
    },
    {
      "cell_type": "code",
      "source": [
        "torch.median(tensor)  , tensor.median()"
      ],
      "metadata": {
        "colab": {
          "base_uri": "https://localhost:8080/"
        },
        "id": "94FsqEoL7c9n",
        "outputId": "9f1f7ce5-93c8-4042-cba4-72e55c1ed206"
      },
      "execution_count": null,
      "outputs": [
        {
          "output_type": "execute_result",
          "data": {
            "text/plain": [
              "(tensor(80.), tensor(80.))"
            ]
          },
          "metadata": {},
          "execution_count": 28
        }
      ]
    },
    {
      "cell_type": "code",
      "source": [
        "torch.std(tensor) , tensor.std()"
      ],
      "metadata": {
        "colab": {
          "base_uri": "https://localhost:8080/"
        },
        "id": "LgoMkAir7uN0",
        "outputId": "ae727fd1-6401-41fc-9d6d-05a8402301ed"
      },
      "execution_count": null,
      "outputs": [
        {
          "output_type": "execute_result",
          "data": {
            "text/plain": [
              "(tensor(60.5530), tensor(60.5530))"
            ]
          },
          "metadata": {},
          "execution_count": 29
        }
      ]
    },
    {
      "cell_type": "code",
      "source": [
        "#finding the position\n",
        "tensor2[0]"
      ],
      "metadata": {
        "colab": {
          "base_uri": "https://localhost:8080/"
        },
        "id": "gp45jLcR9Ifw",
        "outputId": "e68f304d-d68c-4a88-9ba6-2d6739ee91b3"
      },
      "execution_count": null,
      "outputs": [
        {
          "output_type": "execute_result",
          "data": {
            "text/plain": [
              "tensor([1, 2])"
            ]
          },
          "metadata": {},
          "execution_count": 30
        }
      ]
    },
    {
      "cell_type": "code",
      "source": [
        "tensor = torch.tensor([[1, 3, 5],\n",
        "                       [2, 8, 4]])\n",
        "\n",
        "# Find the index of the maximum value along a specific axis (e.g., axis=1 for rows)\n",
        "max_indices = torch.argmax(tensor, dim=1)\n",
        "\n",
        "# Feel free to change  ( dim ) to see how the result will change\n",
        "\n",
        "print(max_indices)"
      ],
      "metadata": {
        "colab": {
          "base_uri": "https://localhost:8080/"
        },
        "id": "vL0o0xwG8syL",
        "outputId": "6952ae12-e8ce-400d-f941-fef869cab189"
      },
      "execution_count": 26,
      "outputs": [
        {
          "output_type": "stream",
          "name": "stdout",
          "text": [
            "tensor([2, 1])\n"
          ]
        }
      ]
    },
    {
      "cell_type": "markdown",
      "source": [
        "**reshaping , stacking , squeezing and unsqueezing tensor**\n"
      ],
      "metadata": {
        "id": "H0_XbOobx5zr"
      }
    },
    {
      "cell_type": "code",
      "source": [
        "x = torch.arange(1. , 10.)\n",
        "x , x.shape"
      ],
      "metadata": {
        "id": "CZe3-ZzY83Dn",
        "colab": {
          "base_uri": "https://localhost:8080/"
        },
        "outputId": "5abf0211-40c9-43b8-ed73-3f3463ed9ee0"
      },
      "execution_count": 30,
      "outputs": [
        {
          "output_type": "execute_result",
          "data": {
            "text/plain": [
              "(tensor([1., 2., 3., 4., 5., 6., 7., 8., 9.]), torch.Size([9]))"
            ]
          },
          "metadata": {},
          "execution_count": 30
        }
      ]
    },
    {
      "cell_type": "code",
      "source": [
        "x_reshaped = x.reshape(3 , 3)\n",
        "x_reshaped , x_reshaped.shape"
      ],
      "metadata": {
        "colab": {
          "base_uri": "https://localhost:8080/"
        },
        "id": "4b2hSqWiy-r-",
        "outputId": "1345c8f1-5b17-467f-f76c-028b2b266406"
      },
      "execution_count": 31,
      "outputs": [
        {
          "output_type": "execute_result",
          "data": {
            "text/plain": [
              "(tensor([[1., 2., 3.],\n",
              "         [4., 5., 6.],\n",
              "         [7., 8., 9.]]),\n",
              " torch.Size([3, 3]))"
            ]
          },
          "metadata": {},
          "execution_count": 31
        }
      ]
    },
    {
      "cell_type": "code",
      "source": [
        "y = torch.arange(1 , 25)\n",
        "y , y.shape"
      ],
      "metadata": {
        "colab": {
          "base_uri": "https://localhost:8080/"
        },
        "id": "softRYz_zYFZ",
        "outputId": "54aa8de1-9738-4076-c5cb-7220d606a121"
      },
      "execution_count": 32,
      "outputs": [
        {
          "output_type": "execute_result",
          "data": {
            "text/plain": [
              "(tensor([ 1,  2,  3,  4,  5,  6,  7,  8,  9, 10, 11, 12, 13, 14, 15, 16, 17, 18,\n",
              "         19, 20, 21, 22, 23, 24]),\n",
              " torch.Size([24]))"
            ]
          },
          "metadata": {},
          "execution_count": 32
        }
      ]
    },
    {
      "cell_type": "code",
      "source": [
        "y_reshaped = y.reshape(2 ,3 , 4)\n",
        "y_reshaped , y_reshaped.shape"
      ],
      "metadata": {
        "colab": {
          "base_uri": "https://localhost:8080/"
        },
        "id": "yMoghWsTzp7w",
        "outputId": "2013825d-ebfc-4cd2-9f06-2ac496ca60db"
      },
      "execution_count": 33,
      "outputs": [
        {
          "output_type": "execute_result",
          "data": {
            "text/plain": [
              "(tensor([[[ 1,  2,  3,  4],\n",
              "          [ 5,  6,  7,  8],\n",
              "          [ 9, 10, 11, 12]],\n",
              " \n",
              "         [[13, 14, 15, 16],\n",
              "          [17, 18, 19, 20],\n",
              "          [21, 22, 23, 24]]]),\n",
              " torch.Size([2, 3, 4]))"
            ]
          },
          "metadata": {},
          "execution_count": 33
        }
      ]
    },
    {
      "cell_type": "code",
      "source": [
        "#view\n",
        "\n",
        "z = x.view(3 ,3 )\n",
        "z , z.shape"
      ],
      "metadata": {
        "colab": {
          "base_uri": "https://localhost:8080/"
        },
        "id": "7dNI-dMm0VdB",
        "outputId": "53197655-fb7c-448e-c65f-f7a8164a653b"
      },
      "execution_count": 34,
      "outputs": [
        {
          "output_type": "execute_result",
          "data": {
            "text/plain": [
              "(tensor([[1., 2., 3.],\n",
              "         [4., 5., 6.],\n",
              "         [7., 8., 9.]]),\n",
              " torch.Size([3, 3]))"
            ]
          },
          "metadata": {},
          "execution_count": 34
        }
      ]
    },
    {
      "cell_type": "markdown",
      "source": [
        "difference between view and reshape :"
      ],
      "metadata": {
        "id": "I1P6x61LgPzO"
      }
    },
    {
      "cell_type": "code",
      "source": [
        "#changing z changes  x (because a view of a tensor share the same memory as the  original)\n",
        "z[0 , 0] = 404\n",
        "z , x"
      ],
      "metadata": {
        "colab": {
          "base_uri": "https://localhost:8080/"
        },
        "id": "GEXCmoZ10W65",
        "outputId": "ce3903e1-8725-4870-99fc-454d725341dc"
      },
      "execution_count": 35,
      "outputs": [
        {
          "output_type": "execute_result",
          "data": {
            "text/plain": [
              "(tensor([[404.,   2.,   3.],\n",
              "         [  4.,   5.,   6.],\n",
              "         [  7.,   8.,   9.]]),\n",
              " tensor([404.,   2.,   3.,   4.,   5.,   6.,   7.,   8.,   9.]))"
            ]
          },
          "metadata": {},
          "execution_count": 35
        }
      ]
    },
    {
      "cell_type": "code",
      "source": [
        "# now we redefine the x\n",
        "x = torch.arange(1. , 13.)\n",
        "x , x.shape"
      ],
      "metadata": {
        "colab": {
          "base_uri": "https://localhost:8080/"
        },
        "id": "yKsFaWPZ09qe",
        "outputId": "0869c436-8f37-4ff3-e6df-7dc69aeb424f"
      },
      "execution_count": 36,
      "outputs": [
        {
          "output_type": "execute_result",
          "data": {
            "text/plain": [
              "(tensor([ 1.,  2.,  3.,  4.,  5.,  6.,  7.,  8.,  9., 10., 11., 12.]),\n",
              " torch.Size([12]))"
            ]
          },
          "metadata": {},
          "execution_count": 36
        }
      ]
    },
    {
      "cell_type": "code",
      "source": [
        "Q = x.reshape(3 ,4 )\n",
        "Q"
      ],
      "metadata": {
        "colab": {
          "base_uri": "https://localhost:8080/"
        },
        "id": "bJknQ3tS27Fj",
        "outputId": "d8723d7b-3224-44d7-f3b6-e04d27825978"
      },
      "execution_count": 37,
      "outputs": [
        {
          "output_type": "execute_result",
          "data": {
            "text/plain": [
              "tensor([[ 1.,  2.,  3.,  4.],\n",
              "        [ 5.,  6.,  7.,  8.],\n",
              "        [ 9., 10., 11., 12.]])"
            ]
          },
          "metadata": {},
          "execution_count": 37
        }
      ]
    },
    {
      "cell_type": "code",
      "source": [
        "t = torch.arange(11 , 23)\n",
        "t = t.reshape(3 , 4)"
      ],
      "metadata": {
        "id": "5un7wqZgTk24"
      },
      "execution_count": 38,
      "outputs": []
    },
    {
      "cell_type": "code",
      "source": [
        "#stacking a tensors on top of each other\n",
        "x_stacked = torch.stack([Q ,t ,Q ] , dim=0)\n",
        "x_stacked , x_stacked.shape\n"
      ],
      "metadata": {
        "colab": {
          "base_uri": "https://localhost:8080/"
        },
        "id": "1lmT2dGn11kV",
        "outputId": "8638093e-eadf-4fa7-d12d-cc6a5165806f"
      },
      "execution_count": 39,
      "outputs": [
        {
          "output_type": "execute_result",
          "data": {
            "text/plain": [
              "(tensor([[[ 1.,  2.,  3.,  4.],\n",
              "          [ 5.,  6.,  7.,  8.],\n",
              "          [ 9., 10., 11., 12.]],\n",
              " \n",
              "         [[11., 12., 13., 14.],\n",
              "          [15., 16., 17., 18.],\n",
              "          [19., 20., 21., 22.]],\n",
              " \n",
              "         [[ 1.,  2.,  3.,  4.],\n",
              "          [ 5.,  6.,  7.,  8.],\n",
              "          [ 9., 10., 11., 12.]]]),\n",
              " torch.Size([3, 3, 4]))"
            ]
          },
          "metadata": {},
          "execution_count": 39
        }
      ]
    },
    {
      "cell_type": "code",
      "source": [
        "x_stacked = torch.stack([Q ,t , Q ] , dim=1)\n",
        "x_stacked , x_stacked.shape"
      ],
      "metadata": {
        "colab": {
          "base_uri": "https://localhost:8080/"
        },
        "id": "mt_rGR_r2uUG",
        "outputId": "ba2bec31-1107-42e0-cb07-33ad3e4eae93"
      },
      "execution_count": 40,
      "outputs": [
        {
          "output_type": "execute_result",
          "data": {
            "text/plain": [
              "(tensor([[[ 1.,  2.,  3.,  4.],\n",
              "          [11., 12., 13., 14.],\n",
              "          [ 1.,  2.,  3.,  4.]],\n",
              " \n",
              "         [[ 5.,  6.,  7.,  8.],\n",
              "          [15., 16., 17., 18.],\n",
              "          [ 5.,  6.,  7.,  8.]],\n",
              " \n",
              "         [[ 9., 10., 11., 12.],\n",
              "          [19., 20., 21., 22.],\n",
              "          [ 9., 10., 11., 12.]]]),\n",
              " torch.Size([3, 3, 4]))"
            ]
          },
          "metadata": {},
          "execution_count": 40
        }
      ]
    },
    {
      "cell_type": "code",
      "source": [
        "x_stacked = torch.stack([Q ,t ,Q ] , dim=2)\n",
        "x_stacked , x_stacked.shape"
      ],
      "metadata": {
        "colab": {
          "base_uri": "https://localhost:8080/"
        },
        "outputId": "d2298d61-ecf5-4e74-8450-25d07536de74",
        "id": "g_PcXe-I3lDz"
      },
      "execution_count": null,
      "outputs": [
        {
          "output_type": "execute_result",
          "data": {
            "text/plain": [
              "(tensor([[[ 1., 11.,  1.],\n",
              "          [ 2., 12.,  2.],\n",
              "          [ 3., 13.,  3.],\n",
              "          [ 4., 14.,  4.]],\n",
              " \n",
              "         [[ 5., 15.,  5.],\n",
              "          [ 6., 16.,  6.],\n",
              "          [ 7., 17.,  7.],\n",
              "          [ 8., 18.,  8.]],\n",
              " \n",
              "         [[ 9., 19.,  9.],\n",
              "          [10., 20., 10.],\n",
              "          [11., 21., 11.],\n",
              "          [12., 22., 12.]]]),\n",
              " torch.Size([3, 4, 3]))"
            ]
          },
          "metadata": {},
          "execution_count": 109
        }
      ]
    },
    {
      "cell_type": "code",
      "source": [
        "#squeezing  a tensor to get rid of single dim\n",
        "x = torch.zeros(2, 1, 2, 1, 2)\n",
        "print(f\" \\n  the size of the tensor is : {x.size()}\")\n",
        "y = torch.squeeze(x)\n",
        "print(f\" \\n ather the squeez(x) we 'll remove all single dimentions :{y.shape} \")\n",
        "y = torch.squeeze(x, 0)\n",
        "print(f\" \\n  if we specify the first dimention because the its 2 it will stay the same :{y.shape} \")\n",
        "y = torch.squeeze(x, 1)\n",
        "print(f\" \\n if we specify the third dim to be squeezed just the third will squeezed :{y.shape} \")\n",
        "y = torch.squeeze(x, ( 2 , 3))\n",
        "print(f\" \\n  and we can set a list of dims to get sqeezed:{y.shape} \")\n",
        "\n"
      ],
      "metadata": {
        "colab": {
          "base_uri": "https://localhost:8080/"
        },
        "id": "a-pv7xLLUugS",
        "outputId": "d62acc3f-576c-4045-d91e-93b4e44c88bb"
      },
      "execution_count": 45,
      "outputs": [
        {
          "output_type": "stream",
          "name": "stdout",
          "text": [
            " \n",
            "  the size of the tensor is : torch.Size([2, 1, 2, 1, 2])\n",
            " \n",
            " ather the squeez(x) we 'll remove all single dimentions :torch.Size([2, 2, 2]) \n",
            " \n",
            "  if we specify the first dimention because the its 2 it will stay the same :torch.Size([2, 1, 2, 1, 2]) \n",
            " \n",
            " if we specify the third dim to be squeezed just the third will squeezed :torch.Size([2, 2, 1, 2]) \n",
            " \n",
            "  and we can set a list of dims to get sqeezed:torch.Size([2, 1, 2, 2]) \n"
          ]
        }
      ]
    },
    {
      "cell_type": "code",
      "source": [
        "# unsqueeze will add a 1 dim\n",
        "x = torch.arange(1 ,9)\n",
        "y = torch.unsqueeze(x , 0)\n",
        "print(x , x.shape)\n",
        "print(y , y.shape)"
      ],
      "metadata": {
        "colab": {
          "base_uri": "https://localhost:8080/"
        },
        "id": "W68QsjHTWnmk",
        "outputId": "0e56498a-4250-4b50-f52d-2ad12021efae"
      },
      "execution_count": null,
      "outputs": [
        {
          "output_type": "stream",
          "name": "stdout",
          "text": [
            "tensor([1, 2, 3, 4, 5, 6, 7, 8]) torch.Size([8])\n",
            "tensor([[1, 2, 3, 4, 5, 6, 7, 8]]) torch.Size([1, 8])\n"
          ]
        }
      ]
    },
    {
      "cell_type": "code",
      "source": [
        "# for changing the order of the dimantions without changing the structure we can use permute\n",
        "x = torch.arange(1 , 25).reshape(3 ,4 , 2)\n",
        "y = torch.permute(x , (2 , 0  ,1 ))\n",
        "print(x.shape)\n",
        "print(y.shape)"
      ],
      "metadata": {
        "colab": {
          "base_uri": "https://localhost:8080/"
        },
        "id": "d17fUcTqeXvA",
        "outputId": "dca1ffc0-ada3-41d5-9695-2c9c199eacee"
      },
      "execution_count": null,
      "outputs": [
        {
          "output_type": "stream",
          "name": "stdout",
          "text": [
            "torch.Size([3, 4, 2])\n",
            "torch.Size([2, 3, 4])\n"
          ]
        }
      ]
    },
    {
      "cell_type": "code",
      "source": [
        "#keep in mind that the value of the .reshape and .permute will be different\n",
        "\n",
        "t = x.reshape(2 ,3 , 4)\n",
        "print(y.shape)\n",
        "print(t.shape)\n",
        "y ,\"-------\" , t"
      ],
      "metadata": {
        "colab": {
          "base_uri": "https://localhost:8080/"
        },
        "id": "xWU09LkFaj6V",
        "outputId": "8bdff9ad-808b-4e6f-9697-4b7ac03dafa7"
      },
      "execution_count": null,
      "outputs": [
        {
          "output_type": "stream",
          "name": "stdout",
          "text": [
            "torch.Size([2, 3, 4])\n",
            "torch.Size([2, 3, 4])\n"
          ]
        },
        {
          "output_type": "execute_result",
          "data": {
            "text/plain": [
              "(tensor([[[ 1,  3,  5,  7],\n",
              "          [ 9, 11, 13, 15],\n",
              "          [17, 19, 21, 23]],\n",
              " \n",
              "         [[ 2,  4,  6,  8],\n",
              "          [10, 12, 14, 16],\n",
              "          [18, 20, 22, 24]]]),\n",
              " '-------',\n",
              " tensor([[[ 1,  2,  3,  4],\n",
              "          [ 5,  6,  7,  8],\n",
              "          [ 9, 10, 11, 12]],\n",
              " \n",
              "         [[13, 14, 15, 16],\n",
              "          [17, 18, 19, 20],\n",
              "          [21, 22, 23, 24]]]))"
            ]
          },
          "metadata": {},
          "execution_count": 224
        }
      ]
    },
    {
      "cell_type": "markdown",
      "source": [
        "interaction between numpy.array and tensor"
      ],
      "metadata": {
        "id": "8rluimpUmfr7"
      }
    },
    {
      "cell_type": "code",
      "source": [
        "import numpy as np"
      ],
      "metadata": {
        "id": "e3cVlxW_cQa_"
      },
      "execution_count": 51,
      "outputs": []
    },
    {
      "cell_type": "code",
      "source": [
        "array = np.arange(1 , 10  , dtype= np.float32)\n",
        "tensor = torch.from_numpy(array)\n",
        "type(array) , type(tensor)"
      ],
      "metadata": {
        "colab": {
          "base_uri": "https://localhost:8080/"
        },
        "id": "8MFbSXGcmoyA",
        "outputId": "63513b63-e2c0-4852-8cc8-48112046366a"
      },
      "execution_count": null,
      "outputs": [
        {
          "output_type": "execute_result",
          "data": {
            "text/plain": [
              "(numpy.ndarray, torch.Tensor)"
            ]
          },
          "metadata": {},
          "execution_count": 15
        }
      ]
    },
    {
      "cell_type": "code",
      "source": [
        "array.dtype , tensor.dtype"
      ],
      "metadata": {
        "colab": {
          "base_uri": "https://localhost:8080/"
        },
        "id": "Zomx5xAAm6SS",
        "outputId": "0d0fc968-58dc-4eb5-db3b-d069730fa883"
      },
      "execution_count": null,
      "outputs": [
        {
          "output_type": "execute_result",
          "data": {
            "text/plain": [
              "(dtype('float32'), torch.float32)"
            ]
          },
          "metadata": {},
          "execution_count": 16
        }
      ]
    },
    {
      "cell_type": "code",
      "source": [
        "\n",
        "tensor = torch.tensor([[1, 2, 3],\n",
        "                       [4, 5, 6]])\n",
        "\n",
        "# Convert tensor to NumPy array\n",
        "numpy_array = tensor.numpy()\n",
        "\n",
        "\n",
        "print(tensor)\n",
        "\n",
        "print(numpy_array)\n",
        "type(numpy_array)"
      ],
      "metadata": {
        "colab": {
          "base_uri": "https://localhost:8080/"
        },
        "id": "-hgRkcWonaSp",
        "outputId": "9f93061e-c647-4d43-d693-9df75a355325"
      },
      "execution_count": 49,
      "outputs": [
        {
          "output_type": "stream",
          "name": "stdout",
          "text": [
            "tensor([[1, 2, 3],\n",
            "        [4, 5, 6]])\n",
            "[[1 2 3]\n",
            " [4 5 6]]\n"
          ]
        },
        {
          "output_type": "execute_result",
          "data": {
            "text/plain": [
              "numpy.ndarray"
            ]
          },
          "metadata": {},
          "execution_count": 49
        }
      ]
    },
    {
      "cell_type": "code",
      "source": [
        "numpy_array = np.array([[1, 2, 3],\n",
        "                        [4, 5, 6]])\n",
        "\n",
        "# Convert NumPy array to PyTorch tensor\n",
        "tensor = torch.from_numpy(numpy_array)\n",
        "\n",
        "\n",
        "print(numpy_array)\n",
        "\n",
        "print(tensor)\n"
      ],
      "metadata": {
        "colab": {
          "base_uri": "https://localhost:8080/"
        },
        "id": "Te4Zmy7jiMOm",
        "outputId": "9c34024c-2fff-4caa-eb56-d5960a13dea3"
      },
      "execution_count": 53,
      "outputs": [
        {
          "output_type": "stream",
          "name": "stdout",
          "text": [
            "[[1 2 3]\n",
            " [4 5 6]]\n",
            "tensor([[1, 2, 3],\n",
            "        [4, 5, 6]])\n"
          ]
        }
      ]
    }
  ]
}